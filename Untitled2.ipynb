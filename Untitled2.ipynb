{
 "cells": [
  {
   "cell_type": "code",
   "execution_count": 1,
   "metadata": {},
   "outputs": [],
   "source": [
    "import tensorflow as tf\n",
    "import numpy as np\n",
    "import pandas as pd\n",
    "import matplotlib.pyplot as plt\n",
    "import seaborn as sns\n",
    "from sklearn.preprocessing import minmax_scale\n",
    "import sys\n",
    "import pylab\n",
    "import numpy as np\n",
    "from tensorflow.keras.layers import *\n",
    "from tensorflow.keras.activations import *\n",
    "from tensorflow.keras.models import Sequential\n",
    "from tensorflow.keras.optimizers import Adam\n",
    "from tensorflow.keras.utils import to_categorical\n",
    "from sklearn.metrics import classification_report"
   ]
  },
  {
   "cell_type": "code",
   "execution_count": 10,
   "metadata": {},
   "outputs": [],
   "source": [
    "df = pd.read_csv('SPFB2.csv')\n",
    "#df = df.append(pd.read_csv('SPF.csv'))"
   ]
  },
  {
   "cell_type": "code",
   "execution_count": 11,
   "metadata": {},
   "outputs": [
    {
     "data": {
      "text/html": [
       "<div>\n",
       "<style scoped>\n",
       "    .dataframe tbody tr th:only-of-type {\n",
       "        vertical-align: middle;\n",
       "    }\n",
       "\n",
       "    .dataframe tbody tr th {\n",
       "        vertical-align: top;\n",
       "    }\n",
       "\n",
       "    .dataframe thead th {\n",
       "        text-align: right;\n",
       "    }\n",
       "</style>\n",
       "<table border=\"1\" class=\"dataframe\">\n",
       "  <thead>\n",
       "    <tr style=\"text-align: right;\">\n",
       "      <th></th>\n",
       "      <th>&lt;DATE&gt;</th>\n",
       "      <th>&lt;TIME&gt;</th>\n",
       "      <th>&lt;OPEN&gt;</th>\n",
       "      <th>&lt;HIGH&gt;</th>\n",
       "      <th>&lt;LOW&gt;</th>\n",
       "      <th>&lt;CLOSE&gt;</th>\n",
       "      <th>&lt;VOL&gt;</th>\n",
       "    </tr>\n",
       "  </thead>\n",
       "  <tbody>\n",
       "    <tr>\n",
       "      <th>0</th>\n",
       "      <td>05/01/15</td>\n",
       "      <td>11:00:00</td>\n",
       "      <td>5562.0</td>\n",
       "      <td>5618.0</td>\n",
       "      <td>5496.0</td>\n",
       "      <td>5526.0</td>\n",
       "      <td>62418</td>\n",
       "    </tr>\n",
       "    <tr>\n",
       "      <th>1</th>\n",
       "      <td>05/01/15</td>\n",
       "      <td>12:00:00</td>\n",
       "      <td>5525.0</td>\n",
       "      <td>5763.0</td>\n",
       "      <td>5510.0</td>\n",
       "      <td>5740.0</td>\n",
       "      <td>65303</td>\n",
       "    </tr>\n",
       "    <tr>\n",
       "      <th>2</th>\n",
       "      <td>05/01/15</td>\n",
       "      <td>13:00:00</td>\n",
       "      <td>5744.0</td>\n",
       "      <td>5800.0</td>\n",
       "      <td>5716.0</td>\n",
       "      <td>5745.0</td>\n",
       "      <td>36380</td>\n",
       "    </tr>\n",
       "    <tr>\n",
       "      <th>3</th>\n",
       "      <td>05/01/15</td>\n",
       "      <td>14:00:00</td>\n",
       "      <td>5742.0</td>\n",
       "      <td>5759.0</td>\n",
       "      <td>5709.0</td>\n",
       "      <td>5720.0</td>\n",
       "      <td>16531</td>\n",
       "    </tr>\n",
       "    <tr>\n",
       "      <th>4</th>\n",
       "      <td>05/01/15</td>\n",
       "      <td>15:00:00</td>\n",
       "      <td>5719.0</td>\n",
       "      <td>5773.0</td>\n",
       "      <td>5711.0</td>\n",
       "      <td>5729.0</td>\n",
       "      <td>17338</td>\n",
       "    </tr>\n",
       "    <tr>\n",
       "      <th>...</th>\n",
       "      <td>...</td>\n",
       "      <td>...</td>\n",
       "      <td>...</td>\n",
       "      <td>...</td>\n",
       "      <td>...</td>\n",
       "      <td>...</td>\n",
       "      <td>...</td>\n",
       "    </tr>\n",
       "    <tr>\n",
       "      <th>18381</th>\n",
       "      <td>24/03/20</td>\n",
       "      <td>20:00:00</td>\n",
       "      <td>17753.0</td>\n",
       "      <td>18045.0</td>\n",
       "      <td>17643.0</td>\n",
       "      <td>17850.0</td>\n",
       "      <td>31006</td>\n",
       "    </tr>\n",
       "    <tr>\n",
       "      <th>18382</th>\n",
       "      <td>24/03/20</td>\n",
       "      <td>21:00:00</td>\n",
       "      <td>17864.0</td>\n",
       "      <td>17931.0</td>\n",
       "      <td>17642.0</td>\n",
       "      <td>17660.0</td>\n",
       "      <td>13245</td>\n",
       "    </tr>\n",
       "    <tr>\n",
       "      <th>18383</th>\n",
       "      <td>24/03/20</td>\n",
       "      <td>22:00:00</td>\n",
       "      <td>17657.0</td>\n",
       "      <td>17769.0</td>\n",
       "      <td>17601.0</td>\n",
       "      <td>17742.0</td>\n",
       "      <td>9140</td>\n",
       "    </tr>\n",
       "    <tr>\n",
       "      <th>18384</th>\n",
       "      <td>24/03/20</td>\n",
       "      <td>23:00:00</td>\n",
       "      <td>17743.0</td>\n",
       "      <td>17938.0</td>\n",
       "      <td>17717.0</td>\n",
       "      <td>17926.0</td>\n",
       "      <td>5814</td>\n",
       "    </tr>\n",
       "    <tr>\n",
       "      <th>18385</th>\n",
       "      <td>25/03/20</td>\n",
       "      <td>00:00:00</td>\n",
       "      <td>17936.0</td>\n",
       "      <td>18100.0</td>\n",
       "      <td>17877.0</td>\n",
       "      <td>18075.0</td>\n",
       "      <td>6638</td>\n",
       "    </tr>\n",
       "  </tbody>\n",
       "</table>\n",
       "<p>18386 rows × 7 columns</p>\n",
       "</div>"
      ],
      "text/plain": [
       "         <DATE>    <TIME>   <OPEN>   <HIGH>    <LOW>  <CLOSE>  <VOL>\n",
       "0      05/01/15  11:00:00   5562.0   5618.0   5496.0   5526.0  62418\n",
       "1      05/01/15  12:00:00   5525.0   5763.0   5510.0   5740.0  65303\n",
       "2      05/01/15  13:00:00   5744.0   5800.0   5716.0   5745.0  36380\n",
       "3      05/01/15  14:00:00   5742.0   5759.0   5709.0   5720.0  16531\n",
       "4      05/01/15  15:00:00   5719.0   5773.0   5711.0   5729.0  17338\n",
       "...         ...       ...      ...      ...      ...      ...    ...\n",
       "18381  24/03/20  20:00:00  17753.0  18045.0  17643.0  17850.0  31006\n",
       "18382  24/03/20  21:00:00  17864.0  17931.0  17642.0  17660.0  13245\n",
       "18383  24/03/20  22:00:00  17657.0  17769.0  17601.0  17742.0   9140\n",
       "18384  24/03/20  23:00:00  17743.0  17938.0  17717.0  17926.0   5814\n",
       "18385  25/03/20  00:00:00  17936.0  18100.0  17877.0  18075.0   6638\n",
       "\n",
       "[18386 rows x 7 columns]"
      ]
     },
     "execution_count": 11,
     "metadata": {},
     "output_type": "execute_result"
    }
   ],
   "source": [
    "df"
   ]
  },
  {
   "cell_type": "code",
   "execution_count": 348,
   "metadata": {},
   "outputs": [
    {
     "data": {
      "text/html": [
       "<div>\n",
       "<style scoped>\n",
       "    .dataframe tbody tr th:only-of-type {\n",
       "        vertical-align: middle;\n",
       "    }\n",
       "\n",
       "    .dataframe tbody tr th {\n",
       "        vertical-align: top;\n",
       "    }\n",
       "\n",
       "    .dataframe thead th {\n",
       "        text-align: right;\n",
       "    }\n",
       "</style>\n",
       "<table border=\"1\" class=\"dataframe\">\n",
       "  <thead>\n",
       "    <tr style=\"text-align: right;\">\n",
       "      <th></th>\n",
       "      <th>&lt;OPEN&gt;</th>\n",
       "      <th>&lt;HIGH&gt;</th>\n",
       "      <th>&lt;LOW&gt;</th>\n",
       "      <th>&lt;CLOSE&gt;</th>\n",
       "      <th>&lt;VOL&gt;</th>\n",
       "    </tr>\n",
       "  </thead>\n",
       "  <tbody>\n",
       "    <tr>\n",
       "      <th>0</th>\n",
       "      <td>0.000000</td>\n",
       "      <td>0.000000</td>\n",
       "      <td>0.000000</td>\n",
       "      <td>0.000000</td>\n",
       "      <td>0.000000</td>\n",
       "    </tr>\n",
       "    <tr>\n",
       "      <th>1</th>\n",
       "      <td>-0.006675</td>\n",
       "      <td>0.025482</td>\n",
       "      <td>0.002544</td>\n",
       "      <td>0.037995</td>\n",
       "      <td>0.045184</td>\n",
       "    </tr>\n",
       "    <tr>\n",
       "      <th>2</th>\n",
       "      <td>0.038873</td>\n",
       "      <td>0.006400</td>\n",
       "      <td>0.036705</td>\n",
       "      <td>0.000871</td>\n",
       "      <td>-0.585019</td>\n",
       "    </tr>\n",
       "    <tr>\n",
       "      <th>3</th>\n",
       "      <td>-0.000348</td>\n",
       "      <td>-0.007094</td>\n",
       "      <td>-0.001225</td>\n",
       "      <td>-0.004361</td>\n",
       "      <td>-0.788782</td>\n",
       "    </tr>\n",
       "    <tr>\n",
       "      <th>4</th>\n",
       "      <td>-0.004014</td>\n",
       "      <td>0.002428</td>\n",
       "      <td>0.000350</td>\n",
       "      <td>0.001572</td>\n",
       "      <td>0.047663</td>\n",
       "    </tr>\n",
       "    <tr>\n",
       "      <th>...</th>\n",
       "      <td>...</td>\n",
       "      <td>...</td>\n",
       "      <td>...</td>\n",
       "      <td>...</td>\n",
       "      <td>...</td>\n",
       "    </tr>\n",
       "    <tr>\n",
       "      <th>18381</th>\n",
       "      <td>-0.010478</td>\n",
       "      <td>0.004221</td>\n",
       "      <td>0.001304</td>\n",
       "      <td>0.007535</td>\n",
       "      <td>-0.215802</td>\n",
       "    </tr>\n",
       "    <tr>\n",
       "      <th>18382</th>\n",
       "      <td>0.006233</td>\n",
       "      <td>-0.006338</td>\n",
       "      <td>-0.000057</td>\n",
       "      <td>-0.010701</td>\n",
       "      <td>-0.850561</td>\n",
       "    </tr>\n",
       "    <tr>\n",
       "      <th>18383</th>\n",
       "      <td>-0.011655</td>\n",
       "      <td>-0.009076</td>\n",
       "      <td>-0.002327</td>\n",
       "      <td>0.004633</td>\n",
       "      <td>-0.370960</td>\n",
       "    </tr>\n",
       "    <tr>\n",
       "      <th>18384</th>\n",
       "      <td>0.004859</td>\n",
       "      <td>0.009466</td>\n",
       "      <td>0.006569</td>\n",
       "      <td>0.010317</td>\n",
       "      <td>-0.452392</td>\n",
       "    </tr>\n",
       "    <tr>\n",
       "      <th>18385</th>\n",
       "      <td>0.010819</td>\n",
       "      <td>0.008991</td>\n",
       "      <td>0.008990</td>\n",
       "      <td>0.008278</td>\n",
       "      <td>0.132542</td>\n",
       "    </tr>\n",
       "  </tbody>\n",
       "</table>\n",
       "<p>18386 rows × 5 columns</p>\n",
       "</div>"
      ],
      "text/plain": [
       "         <OPEN>    <HIGH>     <LOW>   <CLOSE>     <VOL>\n",
       "0      0.000000  0.000000  0.000000  0.000000  0.000000\n",
       "1     -0.006675  0.025482  0.002544  0.037995  0.045184\n",
       "2      0.038873  0.006400  0.036705  0.000871 -0.585019\n",
       "3     -0.000348 -0.007094 -0.001225 -0.004361 -0.788782\n",
       "4     -0.004014  0.002428  0.000350  0.001572  0.047663\n",
       "...         ...       ...       ...       ...       ...\n",
       "18381 -0.010478  0.004221  0.001304  0.007535 -0.215802\n",
       "18382  0.006233 -0.006338 -0.000057 -0.010701 -0.850561\n",
       "18383 -0.011655 -0.009076 -0.002327  0.004633 -0.370960\n",
       "18384  0.004859  0.009466  0.006569  0.010317 -0.452392\n",
       "18385  0.010819  0.008991  0.008990  0.008278  0.132542\n",
       "\n",
       "[18386 rows x 5 columns]"
      ]
     },
     "execution_count": 348,
     "metadata": {},
     "output_type": "execute_result"
    }
   ],
   "source": [
    "df = np.log(df/df.shift())\n",
    "df = df.fillna(0)"
   ]
  },
  {
   "cell_type": "code",
   "execution_count": 322,
   "metadata": {},
   "outputs": [],
   "source": [
    "for k in [\"<OPEN>\", \"<HIGH>\", \"<LOW>\", \"<CLOSE>\", \"<VOL>\"]:\n",
    "    df[k+\"_LD\"] = np.log(df[k]/df[k].shift(1))"
   ]
  },
  {
   "cell_type": "code",
   "execution_count": 323,
   "metadata": {},
   "outputs": [],
   "source": [
    "dfld = df.copy()\n",
    "dfld = dfld[[\"<OPEN>_LD\", \"<HIGH>_LD\", \"<LOW>_LD\", \"<CLOSE>_LD\", \"<VOL>_LD\"]]"
   ]
  },
  {
   "cell_type": "code",
   "execution_count": 324,
   "metadata": {},
   "outputs": [
    {
     "data": {
      "text/plain": [
       "[<matplotlib.lines.Line2D at 0x18639397cf8>]"
      ]
     },
     "execution_count": 324,
     "metadata": {},
     "output_type": "execute_result"
    },
    {
     "data": {
      "image/png": "[encoded data removed]",
      "text/plain": [
       "<Figure size 432x288 with 1 Axes>"
      ]
     },
     "metadata": {
      "needs_background": "light"
     },
     "output_type": "display_data"
    }
   ],
   "source": [
    "k = [\"<OPEN>_LD\", \"<HIGH>_LD\", \"<LOW>_LD\", \"<CLOSE>_LD\", \"<VOL>_LD\"]\n",
    "plt.plot(dfld[k[2]])"
   ]
  },
  {
   "cell_type": "code",
   "execution_count": 32,
   "metadata": {},
   "outputs": [],
   "source": [
    "TRAIN_TEST_SPLIT = 0.97\n",
    "WINDOW_SIZE = 40\n",
    "DEPOSIT = 100000\n",
    "COMISSION = 0.1/100\n",
    "\n",
    "def preprocess(df):\n",
    "    if '<DATE>' in df: df.pop('<DATE>')\n",
    "    if '<TIME>' in df: df.pop('<TIME>')\n",
    "    df.dropna(inplace=True)\n",
    "    signals = np.ones(len(df))\n",
    "    dfcopy = df.copy()\n",
    "    df = df['<CLOSE>']\n",
    "    for i, price in enumerate(df[:-1]):\n",
    "        n_stocks = DEPOSIT//price\n",
    "        next_price = df[i+1]\n",
    "        if next_price*n_stocks > price*n_stocks:\n",
    "            signals[i] = 2\n",
    "        elif next_price*n_stocks < price*n_stocks:\n",
    "            signals[i] = 0\n",
    "    df = df - df.shift(1)\n",
    "    #df = np.log(df/df.shift())\n",
    "    df = df.fillna(0)\n",
    "    data = np.array([df[i:WINDOW_SIZE+i].values for i in range(len(df)-WINDOW_SIZE)])\n",
    "    signals = np.array([signals[WINDOW_SIZE+i-1] for i in range(len(df)-WINDOW_SIZE)]).astype(int)\n",
    "    #signals = np.array([signals[i:WINDOW_SIZE+i] for i in range(len(df)-WINDOW_SIZE)]).astype(int)\n",
    "    data_train = np.expand_dims(data[:int(len(data)*TRAIN_TEST_SPLIT)], axis=-1)\n",
    "    data_test = np.expand_dims(data[int(len(data)*TRAIN_TEST_SPLIT):], axis=-1)\n",
    "    signals_train = signals[:int(len(data)*TRAIN_TEST_SPLIT)]\n",
    "    signals_test = signals[int(len(data)*TRAIN_TEST_SPLIT):]\n",
    "    return data_train, signals_train, data_test, signals_test, dfcopy"
   ]
  },
  {
   "cell_type": "code",
   "execution_count": 33,
   "metadata": {},
   "outputs": [],
   "source": [
    "data_train, signals_train, data_test, signals_test, dfcopy = preprocess(df)"
   ]
  },
  {
   "cell_type": "code",
   "execution_count": 35,
   "metadata": {},
   "outputs": [
    {
     "data": {
      "text/plain": [
       "(array([[-56.],\n",
       "        [ -7.],\n",
       "        [ -7.],\n",
       "        ...,\n",
       "        [-46.],\n",
       "        [-68.],\n",
       "        [ 28.]]), array([0, 0, 0, ..., 0, 2, 2]))"
      ]
     },
     "execution_count": 35,
     "metadata": {},
     "output_type": "execute_result"
    }
   ],
   "source": [
    "data_train[:,-1], signals_train"
   ]
  },
  {
   "cell_type": "code",
   "execution_count": 616,
   "metadata": {},
   "outputs": [
    {
     "name": "stdout",
     "output_type": "stream",
     "text": [
      "Model: \"sequential_37\"\n",
      "_________________________________________________________________\n",
      "Layer (type)                 Output Shape              Param #   \n",
      "=================================================================\n",
      "conv1d_79 (Conv1D)           (None, 40, 32)            160       \n",
      "_________________________________________________________________\n",
      "re_lu_89 (ReLU)              (None, 40, 32)            0         \n",
      "_________________________________________________________________\n",
      "conv1d_80 (Conv1D)           (None, 40, 8)             776       \n",
      "_________________________________________________________________\n",
      "batch_normalization_73 (Batc (None, 40, 8)             32        \n",
      "_________________________________________________________________\n",
      "cu_dnnlstm_27 (CuDNNLSTM)    (None, 40, 16)            1664      \n",
      "_________________________________________________________________\n",
      "dense_100 (Dense)            (None, 40, 16)            272       \n",
      "_________________________________________________________________\n",
      "re_lu_90 (ReLU)              (None, 40, 16)            0         \n",
      "_________________________________________________________________\n",
      "batch_normalization_74 (Batc (None, 40, 16)            64        \n",
      "_________________________________________________________________\n",
      "dense_101 (Dense)            (None, 40, 3)             51        \n",
      "=================================================================\n",
      "Total params: 3,019\n",
      "Trainable params: 2,971\n",
      "Non-trainable params: 48\n",
      "_________________________________________________________________\n"
     ]
    }
   ],
   "source": [
    "model = Sequential()\n",
    "fl_filters = 8\n",
    "#model.add(Conv2D(fl_filters, kernel_size=(1, 5), kernel_initializer='ones', input_shape=(WINDOW_SIZE, 5, 1), padding='valid'))\n",
    "#model.add(ELU())\n",
    "#model.add(Reshape((WINDOW_SIZE, fl_filters)))\n",
    "model.add(Conv1D(32, kernel_size=4, input_shape=(WINDOW_SIZE, 1), padding='same'))\n",
    "model.add(ReLU())\n",
    "#model.add(Dropout(0.25))\n",
    "model.add(Conv1D(8, kernel_size=3, kernel_initializer='ones', padding='same'))\n",
    "#model.add(ReLU())\n",
    "model.add(BatchNormalization())\n",
    "#model.add(Dropout(0.15))\n",
    "model.add(CuDNNLSTM(16, return_sequences=True))\n",
    "#model.add(Conv1D(16, kernel_size=4, kernel_initializer='ones', padding='same'))\n",
    "#model.add(ReLU())\n",
    "#model.add(Dense(16))\n",
    "#model.add(LeakyReLU(0.1))\n",
    "model.add(Dense(16))\n",
    "model.add(ReLU())\n",
    "model.add(BatchNormalization())\n",
    "model.add(Dense(3, activation='sigmoid'))\n",
    "model.summary()\n",
    "model.compile(optimizer=Adam(0.001, epsilon=1e-7), loss='binary_crossentropy', metrics=['accuracy'])"
   ]
  },
  {
   "cell_type": "code",
   "execution_count": 719,
   "metadata": {},
   "outputs": [
    {
     "name": "stdout",
     "output_type": "stream",
     "text": [
      "Model: \"sequential_47\"\n",
      "_________________________________________________________________\n",
      "Layer (type)                 Output Shape              Param #   \n",
      "=================================================================\n",
      "conv1d_108 (Conv1D)          (None, 38, 32)            128       \n",
      "_________________________________________________________________\n",
      "re_lu_145 (ReLU)             (None, 38, 32)            0         \n",
      "_________________________________________________________________\n",
      "max_pooling1d_30 (MaxPooling (None, 19, 32)            0         \n",
      "_________________________________________________________________\n",
      "dropout_80 (Dropout)         (None, 19, 32)            0         \n",
      "_________________________________________________________________\n",
      "conv1d_109 (Conv1D)          (None, 17, 32)            3104      \n",
      "_________________________________________________________________\n",
      "re_lu_146 (ReLU)             (None, 17, 32)            0         \n",
      "_________________________________________________________________\n",
      "max_pooling1d_31 (MaxPooling (None, 8, 32)             0         \n",
      "_________________________________________________________________\n",
      "dropout_81 (Dropout)         (None, 8, 32)             0         \n",
      "_________________________________________________________________\n",
      "conv1d_110 (Conv1D)          (None, 6, 32)             3104      \n",
      "_________________________________________________________________\n",
      "re_lu_147 (ReLU)             (None, 6, 32)             0         \n",
      "_________________________________________________________________\n",
      "batch_normalization_86 (Batc (None, 6, 32)             128       \n",
      "_________________________________________________________________\n",
      "dense_138 (Dense)            (None, 6, 32)             1056      \n",
      "_________________________________________________________________\n",
      "flatten_13 (Flatten)         (None, 192)               0         \n",
      "_________________________________________________________________\n",
      "re_lu_148 (ReLU)             (None, 192)               0         \n",
      "_________________________________________________________________\n",
      "dense_139 (Dense)            (None, 8)                 1544      \n",
      "_________________________________________________________________\n",
      "re_lu_149 (ReLU)             (None, 8)                 0         \n",
      "_________________________________________________________________\n",
      "dense_140 (Dense)            (None, 8)                 72        \n",
      "_________________________________________________________________\n",
      "re_lu_150 (ReLU)             (None, 8)                 0         \n",
      "_________________________________________________________________\n",
      "batch_normalization_87 (Batc (None, 8)                 32        \n",
      "_________________________________________________________________\n",
      "dense_141 (Dense)            (None, 1)                 9         \n",
      "=================================================================\n",
      "Total params: 9,177\n",
      "Trainable params: 9,097\n",
      "Non-trainable params: 80\n",
      "_________________________________________________________________\n"
     ]
    }
   ],
   "source": [
    "model = Sequential()\n",
    "model.add(Conv1D(32, kernel_size=3, padding='valid', input_shape=(WINDOW_SIZE, 1)))\n",
    "model.add(ReLU())\n",
    "model.add(MaxPool1D())\n",
    "model.add(Dropout(0.25))\n",
    "model.add(Conv1D(32, kernel_size=3, padding='valid', input_shape=(WINDOW_SIZE, 1)))\n",
    "model.add(ReLU())\n",
    "model.add(MaxPool1D())\n",
    "model.add(Dropout(0.25))\n",
    "model.add(Conv1D(32, kernel_size=3, padding='valid', input_shape=(WINDOW_SIZE, 1)))\n",
    "model.add(ReLU())\n",
    "model.add(BatchNormalization())\n",
    "model.add(Dense(32))\n",
    "model.add(Flatten())\n",
    "model.add(ReLU())\n",
    "model.add(Dense(8))\n",
    "model.add(ReLU())\n",
    "model.add(Dense(8))\n",
    "model.add(ReLU())\n",
    "model.add(BatchNormalization())\n",
    "model.add(Dense(1, activation='relu'))\n",
    "\n",
    "model.summary()\n",
    "model.compile(optimizer=Adam(0.001, epsilon=1e-7), loss='mse', metrics=['accuracy'])"
   ]
  },
  {
   "cell_type": "code",
   "execution_count": 602,
   "metadata": {},
   "outputs": [
    {
     "name": "stdout",
     "output_type": "stream",
     "text": [
      "Model: \"sequential_36\"\n",
      "_________________________________________________________________\n",
      "Layer (type)                 Output Shape              Param #   \n",
      "=================================================================\n",
      "conv1d_76 (Conv1D)           (None, 40, 24)            120       \n",
      "_________________________________________________________________\n",
      "re_lu_85 (ReLU)              (None, 40, 24)            0         \n",
      "_________________________________________________________________\n",
      "max_pooling1d_9 (MaxPooling1 (None, 20, 24)            0         \n",
      "_________________________________________________________________\n",
      "dropout_62 (Dropout)         (None, 20, 24)            0         \n",
      "_________________________________________________________________\n",
      "batch_normalization_70 (Batc (None, 20, 24)            96        \n",
      "_________________________________________________________________\n",
      "conv1d_77 (Conv1D)           (None, 18, 24)            1752      \n",
      "_________________________________________________________________\n",
      "re_lu_86 (ReLU)              (None, 18, 24)            0         \n",
      "_________________________________________________________________\n",
      "max_pooling1d_10 (MaxPooling (None, 9, 24)             0         \n",
      "_________________________________________________________________\n",
      "dropout_63 (Dropout)         (None, 9, 24)             0         \n",
      "_________________________________________________________________\n",
      "conv1d_78 (Conv1D)           (None, 7, 24)             1752      \n",
      "_________________________________________________________________\n",
      "re_lu_87 (ReLU)              (None, 7, 24)             0         \n",
      "_________________________________________________________________\n",
      "max_pooling1d_11 (MaxPooling (None, 3, 24)             0         \n",
      "_________________________________________________________________\n",
      "flatten_4 (Flatten)          (None, 72)                0         \n",
      "_________________________________________________________________\n",
      "batch_normalization_71 (Batc (None, 72)                288       \n",
      "_________________________________________________________________\n",
      "dropout_64 (Dropout)         (None, 72)                0         \n",
      "_________________________________________________________________\n",
      "dense_97 (Dense)             (None, 16)                1168      \n",
      "_________________________________________________________________\n",
      "leaky_re_lu_39 (LeakyReLU)   (None, 16)                0         \n",
      "_________________________________________________________________\n",
      "dropout_65 (Dropout)         (None, 16)                0         \n",
      "_________________________________________________________________\n",
      "dense_98 (Dense)             (None, 16)                272       \n",
      "_________________________________________________________________\n",
      "re_lu_88 (ReLU)              (None, 16)                0         \n",
      "_________________________________________________________________\n",
      "batch_normalization_72 (Batc (None, 16)                64        \n",
      "_________________________________________________________________\n",
      "dense_99 (Dense)             (None, 3)                 51        \n",
      "=================================================================\n",
      "Total params: 5,563\n",
      "Trainable params: 5,339\n",
      "Non-trainable params: 224\n",
      "_________________________________________________________________\n"
     ]
    }
   ],
   "source": [
    "model = Sequential()\n",
    "fl_filters = 8\n",
    "#model.add(Conv2D(fl_filters, kernel_size=(1, 5), input_shape=(WINDOW_SIZE, 5, 1), padding='valid'))\n",
    "#model.add(LeakyReLU())\n",
    "#model.add(Reshape((WINDOW_SIZE, fl_filters)))\n",
    "model.add(Conv1D(24, kernel_size=4, padding='same', input_shape=(WINDOW_SIZE, 1)))\n",
    "model.add(ReLU())\n",
    "model.add(MaxPool1D())\n",
    "model.add(Dropout(0.3))\n",
    "model.add(BatchNormalization())\n",
    "model.add(Conv1D(24, kernel_size=3, padding='valid'))\n",
    "model.add(ReLU())\n",
    "model.add(MaxPool1D())\n",
    "model.add(Dropout(0.3))\n",
    "model.add(Conv1D(24, kernel_size=3, padding='valid'))\n",
    "model.add(ReLU())\n",
    "model.add(MaxPool1D())\n",
    "model.add(Flatten())\n",
    "model.add(BatchNormalization())\n",
    "dense_units = 16\n",
    "model.add(Dropout(0.3))\n",
    "model.add(Dense(dense_units))\n",
    "model.add(LeakyReLU())\n",
    "model.add(Dropout(0.3))\n",
    "model.add(Dense(dense_units))\n",
    "model.add(ReLU())\n",
    "#model.add(Reshape((1, dense_units)))\n",
    "model.add(BatchNormalization())\n",
    "#model.add(Dropout(0.3))\n",
    "#model.add(CuDNNLSTM(6))\n",
    "#model.add(Dense(dense_units))\n",
    "#model.add(ReLU())\n",
    "model.add(Dense(3, activation='sigmoid'))\n",
    "model.summary()\n",
    "model.compile(optimizer=Adam(0.001, epsilon=1e-7), loss='binary_crossentropy', metrics=['accuracy'])"
   ]
  },
  {
   "cell_type": "code",
   "execution_count": 720,
   "metadata": {
    "scrolled": false
   },
   "outputs": [
    {
     "name": "stdout",
     "output_type": "stream",
     "text": [
      "Train on 2376 samples, validate on 74 samples\n",
      "Epoch 1/125\n",
      "2376/2376 [==============================] - 5s 2ms/sample - loss: 1.5700 - acc: 0.2639 - val_loss: 1.2568 - val_acc: 0.4865\n",
      "Epoch 2/125\n",
      "2376/2376 [==============================] - 1s 515us/sample - loss: 1.3022 - acc: 0.1629 - val_loss: 0.9979 - val_acc: 0.0270\n",
      "Epoch 3/125\n",
      "2376/2376 [==============================] - 1s 510us/sample - loss: 1.1945 - acc: 0.1077 - val_loss: 0.9888 - val_acc: 0.0270\n",
      "Epoch 4/125\n",
      "2376/2376 [==============================] - 1s 504us/sample - loss: 1.1698 - acc: 0.0825 - val_loss: 1.0285 - val_acc: 0.0270\n",
      "Epoch 5/125\n",
      "2376/2376 [==============================] - 1s 517us/sample - loss: 1.1254 - acc: 0.0661 - val_loss: 0.9986 - val_acc: 0.0270\n",
      "Epoch 6/125\n",
      "2376/2376 [==============================] - 1s 525us/sample - loss: 1.0656 - acc: 0.0337 - val_loss: 0.9990 - val_acc: 0.0270\n",
      "Epoch 7/125\n",
      "2376/2376 [==============================] - 1s 514us/sample - loss: 1.0466 - acc: 0.0362 - val_loss: 0.9947 - val_acc: 0.0270\n",
      "Epoch 8/125\n",
      "2376/2376 [==============================] - 1s 517us/sample - loss: 1.0128 - acc: 0.0181 - val_loss: 1.0072 - val_acc: 0.0270\n",
      "Epoch 9/125\n",
      "2376/2376 [==============================] - 2s 650us/sample - loss: 1.0005 - acc: 0.0156 - val_loss: 0.9984 - val_acc: 0.0270\n",
      "Epoch 10/125\n",
      "2376/2376 [==============================] - 2s 770us/sample - loss: 0.9938 - acc: 0.0093 - val_loss: 0.9919 - val_acc: 0.0270\n",
      "Epoch 11/125\n",
      "2376/2376 [==============================] - 2s 777us/sample - loss: 0.9934 - acc: 0.0088 - val_loss: 0.9830 - val_acc: 0.0270\n",
      "Epoch 12/125\n",
      "2376/2376 [==============================] - 1s 535us/sample - loss: 0.9921 - acc: 0.0088 - val_loss: 0.9858 - val_acc: 0.0270\n",
      "Epoch 13/125\n",
      "2376/2376 [==============================] - 1s 517us/sample - loss: 0.9878 - acc: 0.0093 - val_loss: 0.9736 - val_acc: 0.0270\n",
      "Epoch 14/125\n",
      "2376/2376 [==============================] - 1s 510us/sample - loss: 0.9908 - acc: 0.0088 - val_loss: 0.9818 - val_acc: 0.0270\n",
      "Epoch 15/125\n",
      "2376/2376 [==============================] - 1s 529us/sample - loss: 0.9912 - acc: 0.0088 - val_loss: 0.9730 - val_acc: 0.0270\n",
      "Epoch 16/125\n",
      "2376/2376 [==============================] - 1s 612us/sample - loss: 0.9889 - acc: 0.0088 - val_loss: 0.9734 - val_acc: 0.0270\n",
      "Epoch 17/125\n",
      "2376/2376 [==============================] - 2s 785us/sample - loss: 0.9893 - acc: 0.0088 - val_loss: 0.9726 - val_acc: 0.0270\n",
      "Epoch 18/125\n",
      "2376/2376 [==============================] - 2s 826us/sample - loss: 0.9904 - acc: 0.0088 - val_loss: 0.9735 - val_acc: 0.0270\n",
      "Epoch 19/125\n",
      "2376/2376 [==============================] - 1s 525us/sample - loss: 0.9896 - acc: 0.0088 - val_loss: 0.9732 - val_acc: 0.0270\n",
      "Epoch 20/125\n",
      "2376/2376 [==============================] - 1s 527us/sample - loss: 0.9909 - acc: 0.0088 - val_loss: 0.9754 - val_acc: 0.0270\n",
      "Epoch 21/125\n",
      "2376/2376 [==============================] - 1s 523us/sample - loss: 0.9905 - acc: 0.0088 - val_loss: 0.9737 - val_acc: 0.0270\n",
      "Epoch 22/125\n",
      "2376/2376 [==============================] - 1s 616us/sample - loss: 0.9900 - acc: 0.0088 - val_loss: 0.9733 - val_acc: 0.0270\n",
      "Epoch 23/125\n",
      "2376/2376 [==============================] - 1s 532us/sample - loss: 0.9901 - acc: 0.0088 - val_loss: 0.9730 - val_acc: 0.02700s - loss: 0.9922 - acc:\n",
      "Epoch 24/125\n",
      "2376/2376 [==============================] - 1s 625us/sample - loss: 0.9893 - acc: 0.0088 - val_loss: 0.9734 - val_acc: 0.0270\n",
      "Epoch 25/125\n",
      "2376/2376 [==============================] - 1s 629us/sample - loss: 0.9903 - acc: 0.0088 - val_loss: 0.9737 - val_acc: 0.0270\n",
      "Epoch 26/125\n",
      "2376/2376 [==============================] - 2s 780us/sample - loss: 0.9900 - acc: 0.0093 - val_loss: 0.9733 - val_acc: 0.0270\n",
      "Epoch 27/125\n",
      "2376/2376 [==============================] - 1s 521us/sample - loss: 0.9945 - acc: 0.0088 - val_loss: 0.9740 - val_acc: 0.0270\n",
      "Epoch 28/125\n",
      "2376/2376 [==============================] - 1s 531us/sample - loss: 0.9905 - acc: 0.0088 - val_loss: 0.9749 - val_acc: 0.0270\n",
      "Epoch 29/125\n",
      "2376/2376 [==============================] - 1s 548us/sample - loss: 0.9898 - acc: 0.0088 - val_loss: 0.9761 - val_acc: 0.0270\n",
      "Epoch 30/125\n",
      "2376/2376 [==============================] - 2s 648us/sample - loss: 0.9895 - acc: 0.0088 - val_loss: 0.9782 - val_acc: 0.0270\n",
      "Epoch 31/125\n",
      "2376/2376 [==============================] - 2s 634us/sample - loss: 0.9900 - acc: 0.0088 - val_loss: 0.9768 - val_acc: 0.0270\n",
      "Epoch 32/125\n",
      "2376/2376 [==============================] - 2s 709us/sample - loss: 0.9904 - acc: 0.0088 - val_loss: 0.9761 - val_acc: 0.0270\n",
      "Epoch 33/125\n",
      "2376/2376 [==============================] - 1s 535us/sample - loss: 0.9889 - acc: 0.0088 - val_loss: 0.9763 - val_acc: 0.0270\n",
      "Epoch 34/125\n",
      "2376/2376 [==============================] - 1s 568us/sample - loss: 0.9912 - acc: 0.0088 - val_loss: 0.9750 - val_acc: 0.0270\n",
      "Epoch 35/125\n",
      "2376/2376 [==============================] - 1s 566us/sample - loss: 0.9890 - acc: 0.0088 - val_loss: 0.9769 - val_acc: 0.0270\n",
      "Epoch 36/125\n",
      "2376/2376 [==============================] - 1s 609us/sample - loss: 0.9903 - acc: 0.0088 - val_loss: 0.9746 - val_acc: 0.0270\n",
      "Epoch 37/125\n",
      "2376/2376 [==============================] - 1s 524us/sample - loss: 0.9886 - acc: 0.0088 - val_loss: 0.9762 - val_acc: 0.0270\n",
      "Epoch 38/125\n",
      "2376/2376 [==============================] - 1s 621us/sample - loss: 0.9900 - acc: 0.0088 - val_loss: 0.9744 - val_acc: 0.0270\n",
      "Epoch 39/125\n",
      "2376/2376 [==============================] - 2s 725us/sample - loss: 0.9891 - acc: 0.0088 - val_loss: 0.9750 - val_acc: 0.0270\n",
      "Epoch 40/125\n",
      "2376/2376 [==============================] - 2s 636us/sample - loss: 0.9907 - acc: 0.0088 - val_loss: 0.9735 - val_acc: 0.0270\n",
      "Epoch 41/125\n",
      "2376/2376 [==============================] - 1s 549us/sample - loss: 0.9909 - acc: 0.0088 - val_loss: 0.9732 - val_acc: 0.0270\n",
      "Epoch 42/125\n",
      "2376/2376 [==============================] - 1s 533us/sample - loss: 0.9897 - acc: 0.0088 - val_loss: 0.9750 - val_acc: 0.0270\n",
      "Epoch 43/125\n",
      "2376/2376 [==============================] - 1s 562us/sample - loss: 0.9899 - acc: 0.0088 - val_loss: 0.9758 - val_acc: 0.0270\n",
      "Epoch 44/125\n",
      "2376/2376 [==============================] - 1s 593us/sample - loss: 0.9891 - acc: 0.0088 - val_loss: 0.9746 - val_acc: 0.0270\n",
      "Epoch 45/125\n",
      "1216/2376 [==============>...............] - ETA: 0s - loss: 0.9936 - acc: 0.0066"
     ]
    },
    {
     "ename": "KeyboardInterrupt",
     "evalue": "",
     "output_type": "error",
     "traceback": [
      "\u001b[1;31m---------------------------------------------------------------------------\u001b[0m",
      "\u001b[1;31mKeyboardInterrupt\u001b[0m                         Traceback (most recent call last)",
      "\u001b[1;32m~\\.conda\\envs\\neuro\\lib\\site-packages\\tensorflow\\python\\keras\\api\\_v1\\keras\\activations\\__init__.py\u001b[0m in \u001b[0;36m<module>\u001b[1;34m\u001b[0m\n\u001b[1;32m----> 1\u001b[1;33m \u001b[0mmodel\u001b[0m\u001b[1;33m.\u001b[0m\u001b[0mfit\u001b[0m\u001b[1;33m(\u001b[0m\u001b[0mdata_train\u001b[0m\u001b[1;33m,\u001b[0m \u001b[0msignals_train\u001b[0m\u001b[1;33m,\u001b[0m \u001b[0mepochs\u001b[0m\u001b[1;33m=\u001b[0m\u001b[1;36m125\u001b[0m\u001b[1;33m,\u001b[0m \u001b[0mvalidation_split\u001b[0m\u001b[1;33m=\u001b[0m\u001b[1;36m0.03\u001b[0m\u001b[1;33m,\u001b[0m \u001b[0mclass_weight\u001b[0m\u001b[1;33m=\u001b[0m\u001b[1;33m[\u001b[0m\u001b[1;36m1\u001b[0m\u001b[1;33m,\u001b[0m \u001b[1;36m1\u001b[0m\u001b[1;33m,\u001b[0m \u001b[1;36m1\u001b[0m\u001b[1;33m]\u001b[0m\u001b[1;33m)\u001b[0m\u001b[1;33m\u001b[0m\u001b[1;33m\u001b[0m\u001b[0m\n\u001b[0m\u001b[0;32m      2\u001b[0m \u001b[0mmodel\u001b[0m\u001b[1;33m.\u001b[0m\u001b[0msave_weights\u001b[0m\u001b[1;33m(\u001b[0m\u001b[1;34m'modelw10LSTMnew.h5'\u001b[0m\u001b[1;33m)\u001b[0m\u001b[1;33m\u001b[0m\u001b[1;33m\u001b[0m\u001b[0m\n",
      "\u001b[1;32m~\\.conda\\envs\\neuro\\lib\\site-packages\\tensorflow\\python\\keras\\engine\\training.py\u001b[0m in \u001b[0;36mfit\u001b[1;34m(self, x, y, batch_size, epochs, verbose, callbacks, validation_split, validation_data, shuffle, class_weight, sample_weight, initial_epoch, steps_per_epoch, validation_steps, validation_freq, max_queue_size, workers, use_multiprocessing, **kwargs)\u001b[0m\n\u001b[0;32m    778\u001b[0m           \u001b[0mvalidation_steps\u001b[0m\u001b[1;33m=\u001b[0m\u001b[0mvalidation_steps\u001b[0m\u001b[1;33m,\u001b[0m\u001b[1;33m\u001b[0m\u001b[1;33m\u001b[0m\u001b[0m\n\u001b[0;32m    779\u001b[0m           \u001b[0mvalidation_freq\u001b[0m\u001b[1;33m=\u001b[0m\u001b[0mvalidation_freq\u001b[0m\u001b[1;33m,\u001b[0m\u001b[1;33m\u001b[0m\u001b[1;33m\u001b[0m\u001b[0m\n\u001b[1;32m--> 780\u001b[1;33m           steps_name='steps_per_epoch')\n\u001b[0m\u001b[0;32m    781\u001b[0m \u001b[1;33m\u001b[0m\u001b[0m\n\u001b[0;32m    782\u001b[0m   def evaluate(self,\n",
      "\u001b[1;32m~\\.conda\\envs\\neuro\\lib\\site-packages\\tensorflow\\python\\keras\\engine\\training_arrays.py\u001b[0m in \u001b[0;36mmodel_iteration\u001b[1;34m(model, inputs, targets, sample_weights, batch_size, epochs, verbose, callbacks, val_inputs, val_targets, val_sample_weights, shuffle, initial_epoch, steps_per_epoch, validation_steps, validation_freq, mode, validation_in_fit, prepared_feed_values_from_dataset, steps_name, **kwargs)\u001b[0m\n\u001b[0;32m    361\u001b[0m \u001b[1;33m\u001b[0m\u001b[0m\n\u001b[0;32m    362\u001b[0m         \u001b[1;31m# Get outputs.\u001b[0m\u001b[1;33m\u001b[0m\u001b[1;33m\u001b[0m\u001b[1;33m\u001b[0m\u001b[0m\n\u001b[1;32m--> 363\u001b[1;33m         \u001b[0mbatch_outs\u001b[0m \u001b[1;33m=\u001b[0m \u001b[0mf\u001b[0m\u001b[1;33m(\u001b[0m\u001b[0mins_batch\u001b[0m\u001b[1;33m)\u001b[0m\u001b[1;33m\u001b[0m\u001b[1;33m\u001b[0m\u001b[0m\n\u001b[0m\u001b[0;32m    364\u001b[0m         \u001b[1;32mif\u001b[0m \u001b[1;32mnot\u001b[0m \u001b[0misinstance\u001b[0m\u001b[1;33m(\u001b[0m\u001b[0mbatch_outs\u001b[0m\u001b[1;33m,\u001b[0m \u001b[0mlist\u001b[0m\u001b[1;33m)\u001b[0m\u001b[1;33m:\u001b[0m\u001b[1;33m\u001b[0m\u001b[1;33m\u001b[0m\u001b[0m\n\u001b[0;32m    365\u001b[0m           \u001b[0mbatch_outs\u001b[0m \u001b[1;33m=\u001b[0m \u001b[1;33m[\u001b[0m\u001b[0mbatch_outs\u001b[0m\u001b[1;33m]\u001b[0m\u001b[1;33m\u001b[0m\u001b[1;33m\u001b[0m\u001b[0m\n",
      "\u001b[1;32m~\\.conda\\envs\\neuro\\lib\\site-packages\\tensorflow\\python\\keras\\backend.py\u001b[0m in \u001b[0;36m__call__\u001b[1;34m(self, inputs)\u001b[0m\n\u001b[0;32m   3290\u001b[0m \u001b[1;33m\u001b[0m\u001b[0m\n\u001b[0;32m   3291\u001b[0m     fetched = self._callable_fn(*array_vals,\n\u001b[1;32m-> 3292\u001b[1;33m                                 run_metadata=self.run_metadata)\n\u001b[0m\u001b[0;32m   3293\u001b[0m     \u001b[0mself\u001b[0m\u001b[1;33m.\u001b[0m\u001b[0m_call_fetch_callbacks\u001b[0m\u001b[1;33m(\u001b[0m\u001b[0mfetched\u001b[0m\u001b[1;33m[\u001b[0m\u001b[1;33m-\u001b[0m\u001b[0mlen\u001b[0m\u001b[1;33m(\u001b[0m\u001b[0mself\u001b[0m\u001b[1;33m.\u001b[0m\u001b[0m_fetches\u001b[0m\u001b[1;33m)\u001b[0m\u001b[1;33m:\u001b[0m\u001b[1;33m]\u001b[0m\u001b[1;33m)\u001b[0m\u001b[1;33m\u001b[0m\u001b[1;33m\u001b[0m\u001b[0m\n\u001b[0;32m   3294\u001b[0m     output_structure = nest.pack_sequence_as(\n",
      "\u001b[1;32m~\\.conda\\envs\\neuro\\lib\\site-packages\\tensorflow\\python\\client\\session.py\u001b[0m in \u001b[0;36m__call__\u001b[1;34m(self, *args, **kwargs)\u001b[0m\n\u001b[0;32m   1456\u001b[0m         ret = tf_session.TF_SessionRunCallable(self._session._session,\n\u001b[0;32m   1457\u001b[0m                                                \u001b[0mself\u001b[0m\u001b[1;33m.\u001b[0m\u001b[0m_handle\u001b[0m\u001b[1;33m,\u001b[0m \u001b[0margs\u001b[0m\u001b[1;33m,\u001b[0m\u001b[1;33m\u001b[0m\u001b[1;33m\u001b[0m\u001b[0m\n\u001b[1;32m-> 1458\u001b[1;33m                                                run_metadata_ptr)\n\u001b[0m\u001b[0;32m   1459\u001b[0m         \u001b[1;32mif\u001b[0m \u001b[0mrun_metadata\u001b[0m\u001b[1;33m:\u001b[0m\u001b[1;33m\u001b[0m\u001b[1;33m\u001b[0m\u001b[0m\n\u001b[0;32m   1460\u001b[0m           \u001b[0mproto_data\u001b[0m \u001b[1;33m=\u001b[0m \u001b[0mtf_session\u001b[0m\u001b[1;33m.\u001b[0m\u001b[0mTF_GetBuffer\u001b[0m\u001b[1;33m(\u001b[0m\u001b[0mrun_metadata_ptr\u001b[0m\u001b[1;33m)\u001b[0m\u001b[1;33m\u001b[0m\u001b[1;33m\u001b[0m\u001b[0m\n",
      "\u001b[1;31mKeyboardInterrupt\u001b[0m: "
     ]
    }
   ],
   "source": [
    "model.fit(data_train, signals_train, epochs=125, validation_split=0.03, class_weight=[1, 1, 1])\n",
    "model.save_weights('modelw10LSTMnew.h5')"
   ]
  },
  {
   "cell_type": "code",
   "execution_count": 721,
   "metadata": {},
   "outputs": [
    {
     "data": {
      "text/plain": [
       "[<matplotlib.lines.Line2D at 0x18680fb2f60>]"
      ]
     },
     "execution_count": 721,
     "metadata": {},
     "output_type": "execute_result"
    },
    {
     "data": {
      "image/png": "[encoded data removed]",
      "text/plain": [
       "<Figure size 432x288 with 1 Axes>"
      ]
     },
     "metadata": {
      "needs_background": "light"
     },
     "output_type": "display_data"
    }
   ],
   "source": [
    "plt.plot(model.history.history['val_loss'])"
   ]
  },
  {
   "cell_type": "code",
   "execution_count": 622,
   "metadata": {},
   "outputs": [
    {
     "name": "stdout",
     "output_type": "stream",
     "text": [
      "              precision    recall  f1-score   support\n",
      "\n",
      "           0       0.52      0.48      0.50       230\n",
      "           2       0.49      0.53      0.51       217\n",
      "\n",
      "    accuracy                           0.51       447\n",
      "   macro avg       0.51      0.51      0.51       447\n",
      "weighted avg       0.51      0.51      0.51       447\n",
      "\n"
     ]
    }
   ],
   "source": [
    "print(classification_report(signals_test[:,-1], np.argmax(model.predict(data_test)[:,-1], axis=-1)))"
   ]
  },
  {
   "cell_type": "code",
   "execution_count": 722,
   "metadata": {},
   "outputs": [
    {
     "name": "stdout",
     "output_type": "stream",
     "text": [
      "76/76 [==============================] - 1s 12ms/sample\n"
     ]
    }
   ],
   "source": [
    "preds = model.predict(data_test, verbose=1)"
   ]
  },
  {
   "cell_type": "code",
   "execution_count": 723,
   "metadata": {},
   "outputs": [
    {
     "data": {
      "text/plain": [
       "1.03542691"
      ]
     },
     "execution_count": 723,
     "metadata": {},
     "output_type": "execute_result"
    }
   ],
   "source": [
    "0.4699749 + 0.01109496 + 0.55435705"
   ]
  },
  {
   "cell_type": "code",
   "execution_count": 724,
   "metadata": {},
   "outputs": [
    {
     "name": "stdout",
     "output_type": "stream",
     "text": [
      "[1.0370499] 2\n",
      "[1.037182] 0\n",
      "[1.0339781] 2\n",
      "[1.03344] 0\n",
      "[1.0337172] 2\n",
      "[1.0334383] 0\n",
      "[1.033719] 1\n",
      "[1.0341604] 2\n",
      "[1.032505] 2\n",
      "[1.0316864] 0\n",
      "[1.0301268] 0\n",
      "[1.029842] 2\n",
      "[1.0302238] 0\n",
      "[1.0300739] 0\n",
      "[1.0288229] 2\n",
      "[1.0298815] 0\n",
      "[1.0298889] 2\n",
      "[1.0298675] 2\n",
      "[1.0303167] 2\n",
      "[1.0296314] 2\n",
      "[1.02935] 0\n",
      "[1.0302136] 2\n",
      "[1.0285169] 2\n",
      "[1.0238348] 2\n",
      "[1.0231981] 0\n",
      "[1.0238442] 0\n",
      "[1.02512] 2\n",
      "[1.0264394] 0\n",
      "[1.0275025] 0\n",
      "[1.0284815] 2\n",
      "[1.029526] 0\n",
      "[1.0322378] 2\n",
      "[1.033624] 2\n",
      "[1.033696] 0\n",
      "[1.0331758] 1\n",
      "[1.0333674] 2\n",
      "[1.0329458] 2\n",
      "[1.0328003] 2\n",
      "[1.0341564] 0\n",
      "[1.0342857] 2\n",
      "[1.0339397] 1\n",
      "[1.0338954] 2\n",
      "[1.0344828] 0\n",
      "[1.0361458] 0\n",
      "[1.0367278] 2\n",
      "[1.0379704] 2\n",
      "[1.0385205] 2\n",
      "[1.037978] 2\n",
      "[1.0380158] 0\n",
      "[1.0378302] 0\n",
      "[1.0368516] 2\n",
      "[1.0370631] 2\n",
      "[1.0366261] 0\n",
      "[1.0379138] 2\n",
      "[1.0428771] 2\n",
      "[1.0446455] 2\n",
      "[1.0443584] 2\n",
      "[1.0381055] 0\n",
      "[1.0394229] 2\n",
      "[1.0369778] 0\n",
      "[1.0377558] 0\n",
      "[1.0372162] 2\n",
      "[1.03004] 2\n",
      "[1.031859] 0\n",
      "[1.033398] 2\n",
      "[1.0309565] 0\n",
      "[1.032355] 0\n",
      "[1.0329798] 0\n",
      "[1.034149] 0\n",
      "[1.0342952] 0\n",
      "[1.0386037] 0\n",
      "[1.039117] 2\n",
      "[1.0394043] 0\n",
      "[1.039437] 0\n",
      "[1.0393462] 2\n",
      "[1.0384626] 2\n"
     ]
    }
   ],
   "source": [
    "for i in range(len(preds)):\n",
    "    print(preds[i], signals_test[i])"
   ]
  },
  {
   "cell_type": "code",
   "execution_count": 309,
   "metadata": {},
   "outputs": [
    {
     "data": {
      "text/plain": [
       "array([0, 2, 2, 2, 2, 2, 2, 1, 2, 0, 2, 2, 0, 2, 2, 2, 0, 2, 2, 2, 2, 2,\n",
       "       2, 2, 2, 2, 2, 2, 2, 2, 0, 0, 2, 2, 2, 0, 2, 2, 2, 1, 2, 2, 2, 2,\n",
       "       2, 2, 2, 2, 2, 2, 2, 2, 2, 2, 0, 1, 0, 2, 2, 0, 2, 2, 0, 0, 2, 2,\n",
       "       2, 0, 2, 2, 2, 0, 2, 2, 0, 2, 2, 2, 2, 2, 0, 2, 0, 1, 0, 2, 0, 0,\n",
       "       2, 2, 0, 2, 2, 1, 0, 2, 0, 2, 2, 2, 2, 0, 0, 2, 2, 2, 0, 2, 2, 2,\n",
       "       2, 2, 0, 2, 2, 2, 2, 2, 2, 2, 2, 0, 0, 0, 2, 2, 2, 0, 0, 0, 2, 0,\n",
       "       0, 0, 0, 2, 0, 0, 0, 2, 0, 2, 2, 2, 2, 2, 2, 2, 1, 2, 2, 1, 2, 2,\n",
       "       2, 2, 0, 2, 0, 2, 0, 2, 0, 2, 2, 2, 0, 2, 2, 2, 0, 0, 0, 0, 1, 2,\n",
       "       0, 2, 2, 2, 0, 2, 2, 2, 0, 0, 2, 0, 2, 0, 0, 0, 2, 2, 2, 2, 2, 0,\n",
       "       0, 0, 2, 0, 2, 0, 0, 0, 2, 2, 2, 0, 0, 0, 2, 1, 2, 0, 2, 2, 2, 2,\n",
       "       0, 2, 2, 2, 2, 2, 2, 2, 0, 0, 2, 0, 0, 0, 2, 0, 2, 2, 2, 0, 2, 2,\n",
       "       2, 2, 2, 2, 2, 0, 2, 2, 2, 2, 2, 2], dtype=int64)"
      ]
     },
     "execution_count": 309,
     "metadata": {},
     "output_type": "execute_result"
    }
   ],
   "source": [
    "np.argmax(preds, axis=-1)"
   ]
  },
  {
   "cell_type": "code",
   "execution_count": 491,
   "metadata": {},
   "outputs": [
    {
     "data": {
      "text/plain": [
       "0.9788810483870968"
      ]
     },
     "execution_count": 491,
     "metadata": {},
     "output_type": "execute_result"
    }
   ],
   "source": [
    "np.count_nonzero(signals_test == np.argmax(preds, axis=-1))/len(preds)"
   ]
  },
  {
   "cell_type": "code",
   "execution_count": 151,
   "metadata": {},
   "outputs": [
    {
     "data": {
      "image/png": "[encoded data removed]",
      "text/plain": [
       "<IPython.core.display.Image object>"
      ]
     },
     "execution_count": 151,
     "metadata": {},
     "output_type": "execute_result"
    }
   ],
   "source": [
    "tf.keras.utils.plot_model(model, show_shapes=True, show_layer_names=False)"
   ]
  },
  {
   "cell_type": "code",
   "execution_count": 451,
   "metadata": {},
   "outputs": [],
   "source": [
    "model = Sequential([\n",
    "    LSTM(128, input_shape=(5, 1)),\n",
    "    Dense(3, activation='softmax')\n",
    "])"
   ]
  },
  {
   "cell_type": "code",
   "execution_count": 452,
   "metadata": {},
   "outputs": [],
   "source": [
    "model.compile(optimizer=Adam(), loss='categorical_crossentropy', metrics=['accuracy'])"
   ]
  },
  {
   "cell_type": "code",
   "execution_count": 445,
   "metadata": {},
   "outputs": [],
   "source": [
    "def preprocess(df):\n",
    "    if '<DATE>' in df: df.pop('<DATE>')\n",
    "    if '<TIME>' in df: df.pop('<TIME>')\n",
    "    df.dropna(inplace=True)\n",
    "    signals = np.ones(len(df))\n",
    "    for i, price in enumerate(df['<CLOSE>'][:-1]):\n",
    "        n_stocks = DEPOSIT//price\n",
    "        next_price = df['<CLOSE>'][i+1]\n",
    "        if next_price*n_stocks*(1 - COMISSION) > price*n_stocks:\n",
    "            signals[i] = 2\n",
    "        elif next_price*n_stocks < price*n_stocks*(1-COMISSION):\n",
    "            signals[i] = 0    \n",
    "    data = minmax_scale(df.values, feature_range=(0, 1))\n",
    "    data_train = data[:int(len(data)*TRAIN_TEST_SPLIT)]\n",
    "    data_test = data[int(len(data)*TRAIN_TEST_SPLIT):]\n",
    "    signals_train = signals[:int(len(data)*TRAIN_TEST_SPLIT)]\n",
    "    signals_test = signals[int(len(data)*TRAIN_TEST_SPLIT):]\n",
    "    return data_train, signals_train, data_test, signals_test"
   ]
  },
  {
   "cell_type": "code",
   "execution_count": 446,
   "metadata": {},
   "outputs": [],
   "source": [
    "data_train, signals_train, data_test, signals_test = preprocess(df)"
   ]
  },
  {
   "cell_type": "code",
   "execution_count": 453,
   "metadata": {},
   "outputs": [],
   "source": [
    "data_train.shape = (3396, 5, 1)"
   ]
  },
  {
   "cell_type": "code",
   "execution_count": 726,
   "metadata": {},
   "outputs": [
    {
     "name": "stdout",
     "output_type": "stream",
     "text": [
      "Train on 17436 samples, validate on 918 samples\n",
      "Epoch 1/20\n",
      " 5280/17436 [========>.....................] - ETA: 41s - loss: 0.0913 - acc: 0.9635"
     ]
    },
    {
     "ename": "KeyboardInterrupt",
     "evalue": "",
     "output_type": "error",
     "traceback": [
      "\u001b[1;31m---------------------------------------------------------------------------\u001b[0m",
      "\u001b[1;31mKeyboardInterrupt\u001b[0m                         Traceback (most recent call last)",
      "\u001b[1;32m~\\.conda\\envs\\neuro\\lib\\site-packages\\tensorflow\\python\\keras\\api\\_v1\\keras\\activations\\__init__.py\u001b[0m in \u001b[0;36m<module>\u001b[1;34m\u001b[0m\n\u001b[1;32m----> 1\u001b[1;33m \u001b[0mmodel\u001b[0m\u001b[1;33m.\u001b[0m\u001b[0mfit\u001b[0m\u001b[1;33m(\u001b[0m\u001b[0mdata_train\u001b[0m\u001b[1;33m,\u001b[0m \u001b[0mto_categorical\u001b[0m\u001b[1;33m(\u001b[0m\u001b[0msignals_train\u001b[0m\u001b[1;33m)\u001b[0m\u001b[1;33m,\u001b[0m \u001b[0mepochs\u001b[0m\u001b[1;33m=\u001b[0m\u001b[1;36m20\u001b[0m\u001b[1;33m,\u001b[0m \u001b[0mshuffle\u001b[0m\u001b[1;33m=\u001b[0m\u001b[1;32mFalse\u001b[0m\u001b[1;33m,\u001b[0m \u001b[0mvalidation_data\u001b[0m\u001b[1;33m=\u001b[0m\u001b[1;33m(\u001b[0m\u001b[0mdata_test\u001b[0m\u001b[1;33m,\u001b[0m \u001b[0mto_categorical\u001b[0m\u001b[1;33m(\u001b[0m\u001b[0msignals_test\u001b[0m\u001b[1;33m)\u001b[0m\u001b[1;33m)\u001b[0m\u001b[1;33m)\u001b[0m\u001b[1;33m\u001b[0m\u001b[1;33m\u001b[0m\u001b[0m\n\u001b[0m",
      "\u001b[1;32m~\\.conda\\envs\\neuro\\lib\\site-packages\\tensorflow\\python\\keras\\engine\\training.py\u001b[0m in \u001b[0;36mfit\u001b[1;34m(self, x, y, batch_size, epochs, verbose, callbacks, validation_split, validation_data, shuffle, class_weight, sample_weight, initial_epoch, steps_per_epoch, validation_steps, validation_freq, max_queue_size, workers, use_multiprocessing, **kwargs)\u001b[0m\n\u001b[0;32m    778\u001b[0m           \u001b[0mvalidation_steps\u001b[0m\u001b[1;33m=\u001b[0m\u001b[0mvalidation_steps\u001b[0m\u001b[1;33m,\u001b[0m\u001b[1;33m\u001b[0m\u001b[1;33m\u001b[0m\u001b[0m\n\u001b[0;32m    779\u001b[0m           \u001b[0mvalidation_freq\u001b[0m\u001b[1;33m=\u001b[0m\u001b[0mvalidation_freq\u001b[0m\u001b[1;33m,\u001b[0m\u001b[1;33m\u001b[0m\u001b[1;33m\u001b[0m\u001b[0m\n\u001b[1;32m--> 780\u001b[1;33m           steps_name='steps_per_epoch')\n\u001b[0m\u001b[0;32m    781\u001b[0m \u001b[1;33m\u001b[0m\u001b[0m\n\u001b[0;32m    782\u001b[0m   def evaluate(self,\n",
      "\u001b[1;32m~\\.conda\\envs\\neuro\\lib\\site-packages\\tensorflow\\python\\keras\\engine\\training_arrays.py\u001b[0m in \u001b[0;36mmodel_iteration\u001b[1;34m(model, inputs, targets, sample_weights, batch_size, epochs, verbose, callbacks, val_inputs, val_targets, val_sample_weights, shuffle, initial_epoch, steps_per_epoch, validation_steps, validation_freq, mode, validation_in_fit, prepared_feed_values_from_dataset, steps_name, **kwargs)\u001b[0m\n\u001b[0;32m    361\u001b[0m \u001b[1;33m\u001b[0m\u001b[0m\n\u001b[0;32m    362\u001b[0m         \u001b[1;31m# Get outputs.\u001b[0m\u001b[1;33m\u001b[0m\u001b[1;33m\u001b[0m\u001b[1;33m\u001b[0m\u001b[0m\n\u001b[1;32m--> 363\u001b[1;33m         \u001b[0mbatch_outs\u001b[0m \u001b[1;33m=\u001b[0m \u001b[0mf\u001b[0m\u001b[1;33m(\u001b[0m\u001b[0mins_batch\u001b[0m\u001b[1;33m)\u001b[0m\u001b[1;33m\u001b[0m\u001b[1;33m\u001b[0m\u001b[0m\n\u001b[0m\u001b[0;32m    364\u001b[0m         \u001b[1;32mif\u001b[0m \u001b[1;32mnot\u001b[0m \u001b[0misinstance\u001b[0m\u001b[1;33m(\u001b[0m\u001b[0mbatch_outs\u001b[0m\u001b[1;33m,\u001b[0m \u001b[0mlist\u001b[0m\u001b[1;33m)\u001b[0m\u001b[1;33m:\u001b[0m\u001b[1;33m\u001b[0m\u001b[1;33m\u001b[0m\u001b[0m\n\u001b[0;32m    365\u001b[0m           \u001b[0mbatch_outs\u001b[0m \u001b[1;33m=\u001b[0m \u001b[1;33m[\u001b[0m\u001b[0mbatch_outs\u001b[0m\u001b[1;33m]\u001b[0m\u001b[1;33m\u001b[0m\u001b[1;33m\u001b[0m\u001b[0m\n",
      "\u001b[1;32m~\\.conda\\envs\\neuro\\lib\\site-packages\\tensorflow\\python\\keras\\backend.py\u001b[0m in \u001b[0;36m__call__\u001b[1;34m(self, inputs)\u001b[0m\n\u001b[0;32m   3290\u001b[0m \u001b[1;33m\u001b[0m\u001b[0m\n\u001b[0;32m   3291\u001b[0m     fetched = self._callable_fn(*array_vals,\n\u001b[1;32m-> 3292\u001b[1;33m                                 run_metadata=self.run_metadata)\n\u001b[0m\u001b[0;32m   3293\u001b[0m     \u001b[0mself\u001b[0m\u001b[1;33m.\u001b[0m\u001b[0m_call_fetch_callbacks\u001b[0m\u001b[1;33m(\u001b[0m\u001b[0mfetched\u001b[0m\u001b[1;33m[\u001b[0m\u001b[1;33m-\u001b[0m\u001b[0mlen\u001b[0m\u001b[1;33m(\u001b[0m\u001b[0mself\u001b[0m\u001b[1;33m.\u001b[0m\u001b[0m_fetches\u001b[0m\u001b[1;33m)\u001b[0m\u001b[1;33m:\u001b[0m\u001b[1;33m]\u001b[0m\u001b[1;33m)\u001b[0m\u001b[1;33m\u001b[0m\u001b[1;33m\u001b[0m\u001b[0m\n\u001b[0;32m   3294\u001b[0m     output_structure = nest.pack_sequence_as(\n",
      "\u001b[1;32m~\\.conda\\envs\\neuro\\lib\\site-packages\\tensorflow\\python\\client\\session.py\u001b[0m in \u001b[0;36m__call__\u001b[1;34m(self, *args, **kwargs)\u001b[0m\n\u001b[0;32m   1456\u001b[0m         ret = tf_session.TF_SessionRunCallable(self._session._session,\n\u001b[0;32m   1457\u001b[0m                                                \u001b[0mself\u001b[0m\u001b[1;33m.\u001b[0m\u001b[0m_handle\u001b[0m\u001b[1;33m,\u001b[0m \u001b[0margs\u001b[0m\u001b[1;33m,\u001b[0m\u001b[1;33m\u001b[0m\u001b[1;33m\u001b[0m\u001b[0m\n\u001b[1;32m-> 1458\u001b[1;33m                                                run_metadata_ptr)\n\u001b[0m\u001b[0;32m   1459\u001b[0m         \u001b[1;32mif\u001b[0m \u001b[0mrun_metadata\u001b[0m\u001b[1;33m:\u001b[0m\u001b[1;33m\u001b[0m\u001b[1;33m\u001b[0m\u001b[0m\n\u001b[0;32m   1460\u001b[0m           \u001b[0mproto_data\u001b[0m \u001b[1;33m=\u001b[0m \u001b[0mtf_session\u001b[0m\u001b[1;33m.\u001b[0m\u001b[0mTF_GetBuffer\u001b[0m\u001b[1;33m(\u001b[0m\u001b[0mrun_metadata_ptr\u001b[0m\u001b[1;33m)\u001b[0m\u001b[1;33m\u001b[0m\u001b[1;33m\u001b[0m\u001b[0m\n",
      "\u001b[1;31mKeyboardInterrupt\u001b[0m: "
     ]
    }
   ],
   "source": [
    "model.fit(data_train, to_categorical(signals_train), epochs=20, shuffle=False, validation_data=(data_test, to_categorical(signals_test)))"
   ]
  },
  {
   "cell_type": "code",
   "execution_count": 174,
   "metadata": {},
   "outputs": [
    {
     "data": {
      "text/plain": [
       "array([[0.4748319 , 0.0068365 , 0.5199422 ],\n",
       "       [0.46585202, 0.00943905, 0.5242948 ],\n",
       "       [0.4726124 , 0.0080556 , 0.5172811 ],\n",
       "       [0.49139178, 0.00594285, 0.5020141 ],\n",
       "       [0.50531274, 0.00467074, 0.4927647 ],\n",
       "       [0.48530465, 0.0066525 , 0.50899017],\n",
       "       [0.48795572, 0.00506112, 0.5086342 ]], dtype=float32)"
      ]
     },
     "execution_count": 174,
     "metadata": {},
     "output_type": "execute_result"
    }
   ],
   "source": [
    "model.predict(data_test[3:10])"
   ]
  },
  {
   "cell_type": "code",
   "execution_count": 410,
   "metadata": {},
   "outputs": [
    {
     "data": {
      "text/plain": [
       "array([[1., 0., 0.],\n",
       "       [0., 1., 0.],\n",
       "       [0., 0., 1.],\n",
       "       [0., 0., 1.],\n",
       "       [1., 0., 0.],\n",
       "       [1., 0., 0.],\n",
       "       [0., 0., 1.]], dtype=float32)"
      ]
     },
     "execution_count": 410,
     "metadata": {},
     "output_type": "execute_result"
    }
   ],
   "source": [
    "to_categorical(signals_test)[3:10]"
   ]
  },
  {
   "cell_type": "code",
   "execution_count": 171,
   "metadata": {},
   "outputs": [],
   "source": [
    "preds = model.predict(data_test)"
   ]
  },
  {
   "cell_type": "code",
   "execution_count": 173,
   "metadata": {},
   "outputs": [
    {
     "data": {
      "text/plain": [
       "0.0"
      ]
     },
     "execution_count": 173,
     "metadata": {},
     "output_type": "execute_result"
    }
   ],
   "source": [
    "np.sum(np.argmax(preds[:,-1], axis=-1) == np.argmax(to_categorical(signals_test)[:,-1], axis=-1))/len(preds)"
   ]
  },
  {
   "cell_type": "code",
   "execution_count": 685,
   "metadata": {},
   "outputs": [
    {
     "data": {
      "text/plain": [
       "0.051439166"
      ]
     },
     "execution_count": 685,
     "metadata": {},
     "output_type": "execute_result"
    }
   ],
   "source": [
    "sures[-10]"
   ]
  },
  {
   "cell_type": "code",
   "execution_count": 710,
   "metadata": {},
   "outputs": [
    {
     "name": "stdout",
     "output_type": "stream",
     "text": [
      "100000\n",
      "100000\n",
      "100000\n",
      "100000\n",
      "100000\n",
      "100000\n",
      "100000\n",
      "100000\n",
      "100000\n",
      "100000\n",
      "100000\n",
      "100000\n",
      "100000\n",
      "404.5\n",
      "404.5\n",
      "404.5\n",
      "404.5\n",
      "404.5\n",
      "404.5\n",
      "404.5\n",
      "404.5\n",
      "404.5\n",
      "404.5\n",
      "404.5\n",
      "404.5\n",
      "404.5\n",
      "404.5\n",
      "404.5\n",
      "404.5\n",
      "404.5\n",
      "404.5\n",
      "404.5\n",
      "404.5\n",
      "404.5\n",
      "404.5\n",
      "404.5\n",
      "404.5\n",
      "404.5\n",
      "404.5\n",
      "404.5\n",
      "404.5\n",
      "404.5\n",
      "404.5\n",
      "404.5\n",
      "404.5\n",
      "404.5\n",
      "404.5\n",
      "404.5\n",
      "404.5\n",
      "404.5\n",
      "404.5\n",
      "404.5\n",
      "404.5\n",
      "404.5\n",
      "404.5\n",
      "404.5\n",
      "404.5\n",
      "404.5\n",
      "404.5\n",
      "404.5\n",
      "404.5\n",
      "404.5\n",
      "404.5\n",
      "404.5\n",
      "404.5\n",
      "404.5\n",
      "404.5\n",
      "404.5\n",
      "404.5\n",
      "404.5\n",
      "404.5\n",
      "404.5\n",
      "404.5\n",
      "404.5\n",
      "404.5\n",
      "404.5\n"
     ]
    }
   ],
   "source": [
    "stats = []\n",
    "buys = []\n",
    "sells = []\n",
    "money = 100000\n",
    "cur_stocks = 0\n",
    "td = dfcopy[int(len(df)*TRAIN_TEST_SPLIT):].values\n",
    "preds = model.predict(data_test)\n",
    "prev_pred = np.argmax(preds[0])\n",
    "sures = [abs(p[2] - p[0]) for p in preds]\n",
    "sures.sort()\n",
    "sure = sures[-8]\n",
    "for i, p in enumerate(preds):\n",
    "    print(money)\n",
    "    pred = np.argmax(p)\n",
    "    price = td[i][3]\n",
    "    stats.append(money + cur_stocks*price)\n",
    "    if pred == 2:\n",
    "        if money > -DEPOSIT:\n",
    "            if p[2] - p[0] > sure:\n",
    "                buys.append(i)\n",
    "                n_stocks = money//price\n",
    "                cur_stocks += n_stocks\n",
    "                money -= n_stocks*price\n",
    "    elif pred == 0:\n",
    "        if True:\n",
    "            if p[0] - p[2] > sure:\n",
    "                if cur_stocks > 0: sells.append(i)\n",
    "                money += cur_stocks*price\n",
    "                cur_stocks = 0\n",
    "    prev_pred = pred\n",
    "    "
   ]
  },
  {
   "cell_type": "code",
   "execution_count": 708,
   "metadata": {},
   "outputs": [
    {
     "data": {
      "image/png": "[encoded data removed]",
      "text/plain": [
       "<Figure size 432x288 with 1 Axes>"
      ]
     },
     "metadata": {
      "needs_background": "light"
     },
     "output_type": "display_data"
    }
   ],
   "source": [
    "plt.plot(stats)\n",
    "plt.grid()"
   ]
  },
  {
   "cell_type": "code",
   "execution_count": 709,
   "metadata": {},
   "outputs": [
    {
     "data": {
      "image/png": "[encoded data removed]",
      "text/plain": [
       "<Figure size 432x288 with 1 Axes>"
      ]
     },
     "metadata": {
      "needs_background": "light"
     },
     "output_type": "display_data"
    }
   ],
   "source": [
    "pylab.plot(td[:,3])\n",
    "pylab.plot(td[:,3], '^', markersize=10, color='m', label = 'buying signal', markevery = buys, alpha=0.5)\n",
    "pylab.plot(td[:,3], 'v', markersize=10, color='k', label = 'selling signal', markevery = sells, alpha=0.5)\n",
    "pylab.plot(td[:,3], '.', markersize=1, color='m', label = 'buying signal', markevery = buys, alpha=1)\n",
    "pylab.plot(td[:,3], '.', markersize=1, color='k', label = 'selling signal', markevery = sells, alpha=1)\n",
    "pylab.savefig('b.png', dpi=800)"
   ]
  },
  {
   "cell_type": "code",
   "execution_count": 79,
   "metadata": {},
   "outputs": [
    {
     "data": {
      "text/plain": [
       "106723.0"
      ]
     },
     "execution_count": 79,
     "metadata": {},
     "output_type": "execute_result"
    }
   ],
   "source": [
    "td[-1][3]*cur_stocks + money"
   ]
  },
  {
   "cell_type": "code",
   "execution_count": 63,
   "metadata": {},
   "outputs": [],
   "source": [
    "td = df[int(len(df)*TRAIN_TEST_SPLIT):-2].values"
   ]
  },
  {
   "cell_type": "code",
   "execution_count": 572,
   "metadata": {},
   "outputs": [
    {
     "data": {
      "text/plain": [
       "(918, 5)"
      ]
     },
     "execution_count": 572,
     "metadata": {},
     "output_type": "execute_result"
    }
   ],
   "source": [
    "td.shape"
   ]
  },
  {
   "cell_type": "code",
   "execution_count": 662,
   "metadata": {},
   "outputs": [
    {
     "data": {
      "text/plain": [
       "24581.0"
      ]
     },
     "execution_count": 662,
     "metadata": {},
     "output_type": "execute_result"
    }
   ],
   "source": [
    "td[3][3]"
   ]
  },
  {
   "cell_type": "code",
   "execution_count": 666,
   "metadata": {},
   "outputs": [
    {
     "data": {
      "text/plain": [
       "<matplotlib.axes._subplots.AxesSubplot at 0x21fed698e80>"
      ]
     },
     "execution_count": 666,
     "metadata": {},
     "output_type": "execute_result"
    },
    {
     "data": {
      "image/png": "[encoded data removed]",
      "text/plain": [
       "<Figure size 432x288 with 2 Axes>"
      ]
     },
     "metadata": {
      "needs_background": "light"
     },
     "output_type": "display_data"
    }
   ],
   "source": [
    "sns.heatmap(df_norm.corr(), linewidth=1, cmap='RdBu')"
   ]
  },
  {
   "cell_type": "code",
   "execution_count": 665,
   "metadata": {},
   "outputs": [],
   "source": [
    "df_norm = (df - df.mean()) / (df.max() - df.min())"
   ]
  },
  {
   "cell_type": "code",
   "execution_count": null,
   "metadata": {},
   "outputs": [],
   "source": []
  }
 ],
 "metadata": {
  "kernelspec": {
   "display_name": "Python 3",
   "language": "python",
   "name": "python3"
  },
  "language_info": {
   "codemirror_mode": {
    "name": "ipython",
    "version": 3
   },
   "file_extension": ".py",
   "mimetype": "text/x-python",
   "name": "python",
   "nbconvert_exporter": "python",
   "pygments_lexer": "ipython3",
   "version": "3.6.9"
  }
 },
 "nbformat": 4,
 "nbformat_minor": 2
}
