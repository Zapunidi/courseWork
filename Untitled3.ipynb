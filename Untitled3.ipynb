{
 "cells": [
  {
   "cell_type": "code",
   "execution_count": 512,
   "metadata": {},
   "outputs": [],
   "source": [
    "import tensorflow as tf\n",
    "import numpy as np\n",
    "from finta import TA\n",
    "import pandas as pd\n",
    "import matplotlib.pyplot as plt\n",
    "import seaborn as sns\n",
    "from sklearn.preprocessing import minmax_scale, normalize\n",
    "import sys\n",
    "import pylab\n",
    "import numpy as np\n",
    "from tensorflow.keras.layers import *\n",
    "from tensorflow.keras.activations import *\n",
    "from tensorflow.keras.models import Sequential\n",
    "from tensorflow.keras.optimizers import Adam\n",
    "from tensorflow.keras.utils import to_categorical\n",
    "from sklearn.metrics import classification_report"
   ]
  },
  {
   "cell_type": "code",
   "execution_count": 2,
   "metadata": {},
   "outputs": [],
   "source": [
    "df = pd.read_csv('SPFB2.csv')"
   ]
  },
  {
   "cell_type": "code",
   "execution_count": 220,
   "metadata": {},
   "outputs": [],
   "source": [
    "WINDOW_SIZE = 20\n",
    "TRAIN_TEST_SPLIT = 0.95\n",
    "\n",
    "def preprocess(df):\n",
    "    dfcopy = df.copy()\n",
    "    df = df['<CLOSE>'] - df['<CLOSE>'].shift()\n",
    "    df.fillna(0, inplace=True)\n",
    "    df = df.values\n",
    "    signals = np.array([1 if i > 0 else 0 for i in df])\n",
    "    data = np.array([df[i:i+WINDOW_SIZE] for i in range(len(df)-WINDOW_SIZE)])\n",
    "    signals = np.array([signals[i+WINDOW_SIZE] for i in range(len(df)-WINDOW_SIZE)])\n",
    "    \n",
    "    split_index = int(len(data)*TRAIN_TEST_SPLIT)\n",
    "    data_train, signals_train = data[:split_index], signals[:split_index]\n",
    "    data_test, signals_test = data[split_index:], signals[split_index:]\n",
    "    return data_train, signals_train, data_test, signals_test, dfcopy"
   ]
  },
  {
   "cell_type": "code",
   "execution_count": 221,
   "metadata": {},
   "outputs": [],
   "source": [
    "data_train, signals_train, data_test, signals_test, dfcopy = preprocess(df)"
   ]
  },
  {
   "cell_type": "code",
   "execution_count": 222,
   "metadata": {},
   "outputs": [
    {
     "name": "stdout",
     "output_type": "stream",
     "text": [
      "Model: \"sequential_52\"\n",
      "_________________________________________________________________\n",
      "Layer (type)                 Output Shape              Param #   \n",
      "=================================================================\n",
      "conv1d_75 (Conv1D)           (None, 17, 32)            160       \n",
      "_________________________________________________________________\n",
      "re_lu_116 (ReLU)             (None, 17, 32)            0         \n",
      "_________________________________________________________________\n",
      "max_pooling1d_63 (MaxPooling (None, 8, 32)             0         \n",
      "_________________________________________________________________\n",
      "dropout_64 (Dropout)         (None, 8, 32)             0         \n",
      "_________________________________________________________________\n",
      "conv1d_76 (Conv1D)           (None, 6, 16)             1552      \n",
      "_________________________________________________________________\n",
      "re_lu_117 (ReLU)             (None, 6, 16)             0         \n",
      "_________________________________________________________________\n",
      "max_pooling1d_64 (MaxPooling (None, 3, 16)             0         \n",
      "_________________________________________________________________\n",
      "flatten_13 (Flatten)         (None, 48)                0         \n",
      "_________________________________________________________________\n",
      "batch_normalization_67 (Batc (None, 48)                192       \n",
      "_________________________________________________________________\n",
      "dropout_65 (Dropout)         (None, 48)                0         \n",
      "_________________________________________________________________\n",
      "dense_109 (Dense)            (None, 8)                 392       \n",
      "_________________________________________________________________\n",
      "re_lu_118 (ReLU)             (None, 8)                 0         \n",
      "_________________________________________________________________\n",
      "batch_normalization_68 (Batc (None, 8)                 32        \n",
      "_________________________________________________________________\n",
      "dense_110 (Dense)            (None, 2)                 18        \n",
      "=================================================================\n",
      "Total params: 2,346\n",
      "Trainable params: 2,234\n",
      "Non-trainable params: 112\n",
      "_________________________________________________________________\n"
     ]
    }
   ],
   "source": [
    "model = Sequential()\n",
    "fl_filters = 8\n",
    "#model.add(Conv2D(fl_filters, kernel_size=(1, 5), kernel_initializer='ones', input_shape=(WINDOW_SIZE, 5, 1), padding='valid'))\n",
    "#model.add(ELU())\n",
    "#model.add(Reshape((WINDOW_SIZE, fl_filters)))\n",
    "model.add(Conv1D(32, kernel_size=4, input_shape=(WINDOW_SIZE, 1), padding='valid'))\n",
    "model.add(ReLU())\n",
    "model.add(MaxPooling1D(2, padding='valid'))\n",
    "model.add(Dropout(0.4))\n",
    "model.add(Conv1D(16, kernel_size=3, kernel_initializer='he_uniform', padding='valid'))\n",
    "model.add(ReLU())\n",
    "model.add(MaxPooling1D(padding='valid'))\n",
    "#model.add(Dropout(0.25))\n",
    "#model.add(Conv1D(16, kernel_size=3, kernel_initializer='he_uniform', padding='valid'))\n",
    "#model.add(ReLU())\n",
    "#model.add(MaxPooling1D(padding='valid'))\n",
    "model.add(Flatten())\n",
    "model.add(BatchNormalization())\n",
    "model.add(Dropout(0.4))\n",
    "#model.add(CuDNNLSTM(16, return_sequences=False))\n",
    "#model.add(Conv1D(16, kernel_size=4, kernel_initializer='ones', padding='same'))\n",
    "#model.add(ReLU())\n",
    "#model.add(Dense(16))\n",
    "#model.add(ReLU())\n",
    "model.add(Dense(8))\n",
    "model.add(ReLU())\n",
    "model.add(BatchNormalization())\n",
    "model.add(Dense(2, activation='sigmoid'))\n",
    "model.summary()\n",
    "model.compile(optimizer=Adam(0.001, epsilon=1e-7), loss='binary_crossentropy', metrics=['accuracy'])"
   ]
  },
  {
   "cell_type": "code",
   "execution_count": 326,
   "metadata": {},
   "outputs": [
    {
     "name": "stdout",
     "output_type": "stream",
     "text": [
      "Model: \"sequential_53\"\n",
      "_________________________________________________________________\n",
      "Layer (type)                 Output Shape              Param #   \n",
      "=================================================================\n",
      "cu_dnnlstm_34 (CuDNNLSTM)    (None, 20, 12)            720       \n",
      "_________________________________________________________________\n",
      "cu_dnngru_18 (CuDNNGRU)      (None, 12)                936       \n",
      "_________________________________________________________________\n",
      "batch_normalization_69 (Batc (None, 12)                48        \n",
      "_________________________________________________________________\n",
      "dense_111 (Dense)            (None, 16)                208       \n",
      "_________________________________________________________________\n",
      "re_lu_119 (ReLU)             (None, 16)                0         \n",
      "_________________________________________________________________\n",
      "dense_112 (Dense)            (None, 2)                 34        \n",
      "=================================================================\n",
      "Total params: 1,946\n",
      "Trainable params: 1,922\n",
      "Non-trainable params: 24\n",
      "_________________________________________________________________\n"
     ]
    }
   ],
   "source": [
    "model = Sequential()\n",
    "model.add(CuDNNLSTM(12, return_sequences=True,\n",
    "               input_shape=(WINDOW_SIZE, 1)))\n",
    "#model.add(CuDNNGRU(8, return_sequences=True))\n",
    "model.add(CuDNNGRU(12))\n",
    "model.add(BatchNormalization())\n",
    "#model.add(Dense(16))\n",
    "#model.add(ReLU())\n",
    "model.add(Dense(16))\n",
    "model.add(ReLU())\n",
    "model.add(Dense(2, activation='sigmoid'))\n",
    "\n",
    "model.summary()\n",
    "model.compile(optimizer=Adam(0.001, epsilon=1e-7), loss='binary_crossentropy', metrics=['accuracy'])"
   ]
  },
  {
   "cell_type": "code",
   "execution_count": 348,
   "metadata": {},
   "outputs": [
    {
     "name": "stdout",
     "output_type": "stream",
     "text": [
      "Train on 17098 samples, validate on 349 samples\n",
      "Epoch 1/500\n",
      "17098/17098 [==============================] - 13s 735us/sample - loss: 0.6858 - acc: 0.5488 - val_loss: 0.6974 - val_acc: 0.5129\n",
      "Epoch 2/500\n",
      "17098/17098 [==============================] - 9s 553us/sample - loss: 0.6862 - acc: 0.5457 - val_loss: 0.6832 - val_acc: 0.5444\n",
      "Epoch 3/500\n",
      "17098/17098 [==============================] - 10s 607us/sample - loss: 0.6865 - acc: 0.5440 - val_loss: 0.7073 - val_acc: 0.4699\n",
      "Epoch 4/500\n",
      "17098/17098 [==============================] - 16s 948us/sample - loss: 0.6860 - acc: 0.5483 - val_loss: 0.6949 - val_acc: 0.4943\n",
      "Epoch 5/500\n",
      "17098/17098 [==============================] - 15s 850us/sample - loss: 0.6864 - acc: 0.5446 - val_loss: 0.6892 - val_acc: 0.5287\n",
      "Epoch 6/500\n",
      "17098/17098 [==============================] - 16s 907us/sample - loss: 0.6858 - acc: 0.5493 - val_loss: 0.6952 - val_acc: 0.5072\n",
      "Epoch 7/500\n",
      "17098/17098 [==============================] - 14s 791us/sample - loss: 0.6858 - acc: 0.5525 - val_loss: 0.6856 - val_acc: 0.5487\n",
      "Epoch 8/500\n",
      "17098/17098 [==============================] - 10s 573us/sample - loss: 0.6862 - acc: 0.5432 - val_loss: 0.6923 - val_acc: 0.5115\n",
      "Epoch 9/500\n",
      "17098/17098 [==============================] - 10s 556us/sample - loss: 0.6860 - acc: 0.5454 - val_loss: 0.6805 - val_acc: 0.5688\n",
      "Epoch 10/500\n",
      " 1024/17098 [>.............................] - ETA: 8s - loss: 0.6893 - acc: 0.5464"
     ]
    },
    {
     "ename": "KeyboardInterrupt",
     "evalue": "",
     "output_type": "error",
     "traceback": [
      "\u001b[1;31m---------------------------------------------------------------------------\u001b[0m",
      "\u001b[1;31mKeyboardInterrupt\u001b[0m                         Traceback (most recent call last)",
      "\u001b[1;32m~\\.conda\\envs\\neuro\\lib\\site-packages\\tensorflow\\python\\keras\\api\\_v1\\keras\\activations\\__init__.py\u001b[0m in \u001b[0;36m<module>\u001b[1;34m\u001b[0m\n\u001b[0;32m      3\u001b[0m     \u001b[0mto_categorical\u001b[0m\u001b[1;33m(\u001b[0m\u001b[0msignals_train\u001b[0m\u001b[1;33m)\u001b[0m\u001b[1;33m,\u001b[0m\u001b[1;33m\u001b[0m\u001b[1;33m\u001b[0m\u001b[0m\n\u001b[0;32m      4\u001b[0m     \u001b[0mepochs\u001b[0m\u001b[1;33m=\u001b[0m\u001b[1;36m500\u001b[0m\u001b[1;33m,\u001b[0m\u001b[1;33m\u001b[0m\u001b[1;33m\u001b[0m\u001b[0m\n\u001b[1;32m----> 5\u001b[1;33m     validation_split=0.02)\n\u001b[0m",
      "\u001b[1;32m~\\.conda\\envs\\neuro\\lib\\site-packages\\tensorflow\\python\\keras\\engine\\training.py\u001b[0m in \u001b[0;36mfit\u001b[1;34m(self, x, y, batch_size, epochs, verbose, callbacks, validation_split, validation_data, shuffle, class_weight, sample_weight, initial_epoch, steps_per_epoch, validation_steps, validation_freq, max_queue_size, workers, use_multiprocessing, **kwargs)\u001b[0m\n\u001b[0;32m    778\u001b[0m           \u001b[0mvalidation_steps\u001b[0m\u001b[1;33m=\u001b[0m\u001b[0mvalidation_steps\u001b[0m\u001b[1;33m,\u001b[0m\u001b[1;33m\u001b[0m\u001b[1;33m\u001b[0m\u001b[0m\n\u001b[0;32m    779\u001b[0m           \u001b[0mvalidation_freq\u001b[0m\u001b[1;33m=\u001b[0m\u001b[0mvalidation_freq\u001b[0m\u001b[1;33m,\u001b[0m\u001b[1;33m\u001b[0m\u001b[1;33m\u001b[0m\u001b[0m\n\u001b[1;32m--> 780\u001b[1;33m           steps_name='steps_per_epoch')\n\u001b[0m\u001b[0;32m    781\u001b[0m \u001b[1;33m\u001b[0m\u001b[0m\n\u001b[0;32m    782\u001b[0m   def evaluate(self,\n",
      "\u001b[1;32m~\\.conda\\envs\\neuro\\lib\\site-packages\\tensorflow\\python\\keras\\engine\\training_arrays.py\u001b[0m in \u001b[0;36mmodel_iteration\u001b[1;34m(model, inputs, targets, sample_weights, batch_size, epochs, verbose, callbacks, val_inputs, val_targets, val_sample_weights, shuffle, initial_epoch, steps_per_epoch, validation_steps, validation_freq, mode, validation_in_fit, prepared_feed_values_from_dataset, steps_name, **kwargs)\u001b[0m\n\u001b[0;32m    361\u001b[0m \u001b[1;33m\u001b[0m\u001b[0m\n\u001b[0;32m    362\u001b[0m         \u001b[1;31m# Get outputs.\u001b[0m\u001b[1;33m\u001b[0m\u001b[1;33m\u001b[0m\u001b[1;33m\u001b[0m\u001b[0m\n\u001b[1;32m--> 363\u001b[1;33m         \u001b[0mbatch_outs\u001b[0m \u001b[1;33m=\u001b[0m \u001b[0mf\u001b[0m\u001b[1;33m(\u001b[0m\u001b[0mins_batch\u001b[0m\u001b[1;33m)\u001b[0m\u001b[1;33m\u001b[0m\u001b[1;33m\u001b[0m\u001b[0m\n\u001b[0m\u001b[0;32m    364\u001b[0m         \u001b[1;32mif\u001b[0m \u001b[1;32mnot\u001b[0m \u001b[0misinstance\u001b[0m\u001b[1;33m(\u001b[0m\u001b[0mbatch_outs\u001b[0m\u001b[1;33m,\u001b[0m \u001b[0mlist\u001b[0m\u001b[1;33m)\u001b[0m\u001b[1;33m:\u001b[0m\u001b[1;33m\u001b[0m\u001b[1;33m\u001b[0m\u001b[0m\n\u001b[0;32m    365\u001b[0m           \u001b[0mbatch_outs\u001b[0m \u001b[1;33m=\u001b[0m \u001b[1;33m[\u001b[0m\u001b[0mbatch_outs\u001b[0m\u001b[1;33m]\u001b[0m\u001b[1;33m\u001b[0m\u001b[1;33m\u001b[0m\u001b[0m\n",
      "\u001b[1;32m~\\.conda\\envs\\neuro\\lib\\site-packages\\tensorflow\\python\\keras\\backend.py\u001b[0m in \u001b[0;36m__call__\u001b[1;34m(self, inputs)\u001b[0m\n\u001b[0;32m   3290\u001b[0m \u001b[1;33m\u001b[0m\u001b[0m\n\u001b[0;32m   3291\u001b[0m     fetched = self._callable_fn(*array_vals,\n\u001b[1;32m-> 3292\u001b[1;33m                                 run_metadata=self.run_metadata)\n\u001b[0m\u001b[0;32m   3293\u001b[0m     \u001b[0mself\u001b[0m\u001b[1;33m.\u001b[0m\u001b[0m_call_fetch_callbacks\u001b[0m\u001b[1;33m(\u001b[0m\u001b[0mfetched\u001b[0m\u001b[1;33m[\u001b[0m\u001b[1;33m-\u001b[0m\u001b[0mlen\u001b[0m\u001b[1;33m(\u001b[0m\u001b[0mself\u001b[0m\u001b[1;33m.\u001b[0m\u001b[0m_fetches\u001b[0m\u001b[1;33m)\u001b[0m\u001b[1;33m:\u001b[0m\u001b[1;33m]\u001b[0m\u001b[1;33m)\u001b[0m\u001b[1;33m\u001b[0m\u001b[1;33m\u001b[0m\u001b[0m\n\u001b[0;32m   3294\u001b[0m     output_structure = nest.pack_sequence_as(\n",
      "\u001b[1;32m~\\.conda\\envs\\neuro\\lib\\site-packages\\tensorflow\\python\\client\\session.py\u001b[0m in \u001b[0;36m__call__\u001b[1;34m(self, *args, **kwargs)\u001b[0m\n\u001b[0;32m   1456\u001b[0m         ret = tf_session.TF_SessionRunCallable(self._session._session,\n\u001b[0;32m   1457\u001b[0m                                                \u001b[0mself\u001b[0m\u001b[1;33m.\u001b[0m\u001b[0m_handle\u001b[0m\u001b[1;33m,\u001b[0m \u001b[0margs\u001b[0m\u001b[1;33m,\u001b[0m\u001b[1;33m\u001b[0m\u001b[1;33m\u001b[0m\u001b[0m\n\u001b[1;32m-> 1458\u001b[1;33m                                                run_metadata_ptr)\n\u001b[0m\u001b[0;32m   1459\u001b[0m         \u001b[1;32mif\u001b[0m \u001b[0mrun_metadata\u001b[0m\u001b[1;33m:\u001b[0m\u001b[1;33m\u001b[0m\u001b[1;33m\u001b[0m\u001b[0m\n\u001b[0;32m   1460\u001b[0m           \u001b[0mproto_data\u001b[0m \u001b[1;33m=\u001b[0m \u001b[0mtf_session\u001b[0m\u001b[1;33m.\u001b[0m\u001b[0mTF_GetBuffer\u001b[0m\u001b[1;33m(\u001b[0m\u001b[0mrun_metadata_ptr\u001b[0m\u001b[1;33m)\u001b[0m\u001b[1;33m\u001b[0m\u001b[1;33m\u001b[0m\u001b[0m\n",
      "\u001b[1;31mKeyboardInterrupt\u001b[0m: "
     ]
    }
   ],
   "source": [
    "model.fit(\n",
    "    np.expand_dims(normalize(data_train), axis=-1),\n",
    "    to_categorical(signals_train),\n",
    "    epochs=500,\n",
    "    validation_split=0.02)"
   ]
  },
  {
   "cell_type": "code",
   "execution_count": 199,
   "metadata": {},
   "outputs": [
    {
     "data": {
      "text/plain": [
       "0.5087145969498911"
      ]
     },
     "execution_count": 199,
     "metadata": {},
     "output_type": "execute_result"
    }
   ],
   "source": [
    "np.count_nonzero(signals_test)/len(signals_test)"
   ]
  },
  {
   "cell_type": "code",
   "execution_count": 349,
   "metadata": {},
   "outputs": [
    {
     "data": {
      "text/plain": [
       "[<matplotlib.lines.Line2D at 0x27a771a8c50>]"
      ]
     },
     "execution_count": 349,
     "metadata": {},
     "output_type": "execute_result"
    },
    {
     "data": {
      "image/png": "[encoded data removed]",
      "text/plain": [
       "<Figure size 432x288 with 1 Axes>"
      ]
     },
     "metadata": {
      "needs_background": "light"
     },
     "output_type": "display_data"
    }
   ],
   "source": [
    "plt.plot(model.history.history['val_acc'])"
   ]
  },
  {
   "cell_type": "code",
   "execution_count": 108,
   "metadata": {},
   "outputs": [
    {
     "data": {
      "text/plain": [
       "array([[ 0.        ,  0.42377899,  0.00990138, ...,  0.11287571,\n",
       "         0.02772386, -0.11089544],\n",
       "       [ 0.42373828,  0.00990043, -0.04950214, ...,  0.0277212 ,\n",
       "        -0.11088478, -0.0138606 ],\n",
       "       [ 0.01092894, -0.05464471,  0.0196721 , ..., -0.12240415,\n",
       "        -0.01530052, -0.01530052],\n",
       "       ...,\n",
       "       [ 0.05170877,  0.29876178,  0.35334325, ..., -0.07181773,\n",
       "         0.02298168,  0.28439823],\n",
       "       [ 0.29911745,  0.3537639 ,  0.07765549, ...,  0.02300903,\n",
       "         0.2847368 , -0.01725678],\n",
       "       [ 0.36230418,  0.07953018, -0.05596569, ...,  0.29161068,\n",
       "        -0.01767337, -0.21208049]])"
      ]
     },
     "execution_count": 108,
     "metadata": {},
     "output_type": "execute_result"
    }
   ],
   "source": [
    "normalize(data_train)"
   ]
  },
  {
   "cell_type": "code",
   "execution_count": 354,
   "metadata": {},
   "outputs": [
    {
     "name": "stdout",
     "output_type": "stream",
     "text": [
      "              precision    recall  f1-score   support\n",
      "\n",
      "           0       0.93      0.49      0.64       863\n",
      "           1       0.05      0.45      0.10        56\n",
      "\n",
      "    accuracy                           0.49       919\n",
      "   macro avg       0.49      0.47      0.37       919\n",
      "weighted avg       0.88      0.49      0.61       919\n",
      "\n"
     ]
    }
   ],
   "source": [
    "preds = model.predict(np.expand_dims(data_test, axis=-1))\n",
    "print(classification_report(np.argmax(preds, axis=-1), signals_test))"
   ]
  },
  {
   "cell_type": "code",
   "execution_count": 380,
   "metadata": {},
   "outputs": [],
   "source": [
    "sure = 0.4\n",
    "money = 100000\n",
    "cur_stocks = 0\n",
    "\n",
    "sells = []\n",
    "buys = []\n",
    "stats = []\n",
    "\n",
    "preds = model.predict(np.expand_dims(data_test, axis=-1))\n",
    "temp_df = dfcopy['<CLOSE>'].copy()\n",
    "temp_df = temp_df[int(len(dfcopy)*TRAIN_TEST_SPLIT):-1].values\n",
    "for i, p in enumerate(preds):\n",
    "    price = temp_df[i]\n",
    "    if abs(p[0] - p[1]) > sure:\n",
    "        if p[0] >= p[1]:\n",
    "            if cur_stocks > 0: sells.append(i)\n",
    "            #n_stocks = money // price\n",
    "            money += cur_stocks*price \n",
    "            cur_stocks = 0\n",
    "        else:\n",
    "            n_stocks = money // price\n",
    "            if n_stocks > 0: buys.append(i)\n",
    "            money -= n_stocks*price\n",
    "            cur_stocks += n_stocks\n",
    "    stats.append(price*cur_stocks + money)\n",
    "    #print(money)"
   ]
  },
  {
   "cell_type": "code",
   "execution_count": 381,
   "metadata": {},
   "outputs": [
    {
     "data": {
      "text/plain": [
       "99254.0"
      ]
     },
     "execution_count": 381,
     "metadata": {},
     "output_type": "execute_result"
    }
   ],
   "source": [
    "money"
   ]
  },
  {
   "cell_type": "code",
   "execution_count": 382,
   "metadata": {},
   "outputs": [
    {
     "data": {
      "image/png": "[encoded data removed]",
      "text/plain": [
       "<Figure size 432x288 with 1 Axes>"
      ]
     },
     "metadata": {
      "needs_background": "light"
     },
     "output_type": "display_data"
    }
   ],
   "source": [
    "pylab.plot(temp_df)\n",
    "pylab.plot(temp_df, '^', markersize=10, color='m', label = 'buying signal', markevery = buys, alpha=0.5)\n",
    "pylab.plot(temp_df, 'v', markersize=10, color='k', label = 'selling signal', markevery = sells, alpha=0.5)\n",
    "pylab.plot(temp_df, '.', markersize=1, color='m', label = 'buying signal', markevery = buys, alpha=1)\n",
    "pylab.plot(temp_df, '.', markersize=1, color='k', label = 'selling signal', markevery = sells, alpha=1)\n",
    "pylab.savefig('b.png', dpi=100)"
   ]
  },
  {
   "cell_type": "code",
   "execution_count": 385,
   "metadata": {},
   "outputs": [
    {
     "data": {
      "image/png": "[encoded data removed]",
      "text/plain": [
       "<Figure size 432x288 with 1 Axes>"
      ]
     },
     "metadata": {
      "needs_background": "light"
     },
     "output_type": "display_data"
    }
   ],
   "source": [
    "plt.plot(stats)\n",
    "plt.grid()"
   ]
  },
  {
   "cell_type": "code",
   "execution_count": 297,
   "metadata": {},
   "outputs": [
    {
     "data": {
      "text/plain": [
       "array([[0.08276644, 0.91723347],\n",
       "       [0.944842  , 0.05515802],\n",
       "       [0.991183  , 0.00881705],\n",
       "       ...,\n",
       "       [1.        , 0.        ],\n",
       "       [1.        , 0.        ],\n",
       "       [0.        , 1.        ]], dtype=float32)"
      ]
     },
     "execution_count": 297,
     "metadata": {},
     "output_type": "execute_result"
    }
   ],
   "source": [
    "preds"
   ]
  },
  {
   "cell_type": "code",
   "execution_count": 300,
   "metadata": {},
   "outputs": [
    {
     "data": {
      "text/plain": [
       "array([1, 1, 1])"
      ]
     },
     "execution_count": 300,
     "metadata": {},
     "output_type": "execute_result"
    }
   ],
   "source": [
    "signals_test[-3:]"
   ]
  },
  {
   "cell_type": "code",
   "execution_count": 394,
   "metadata": {},
   "outputs": [],
   "source": [
    "df['SMA'] = np.convolve(df['<CLOSE>'], np.ones((WINDOW_SIZE,))/WINDOW_SIZE, mode='same')"
   ]
  },
  {
   "cell_type": "code",
   "execution_count": 500,
   "metadata": {},
   "outputs": [],
   "source": [
    "df['ASMA'] = df['<CLOSE>'].rolling(WINDOW_SIZE, center=True).mean()"
   ]
  },
  {
   "cell_type": "code",
   "execution_count": 433,
   "metadata": {},
   "outputs": [
    {
     "data": {
      "text/plain": [
       "0      NaN\n",
       "1    214.0\n",
       "2      5.0\n",
       "3    -25.0\n",
       "4      9.0\n",
       "Name: <CLOSE>, dtype: float64"
      ]
     },
     "execution_count": 433,
     "metadata": {},
     "output_type": "execute_result"
    }
   ],
   "source": [
    "(df['<CLOSE>'] - df['<CLOSE>'].shift())[0:5]"
   ]
  },
  {
   "cell_type": "code",
   "execution_count": 478,
   "metadata": {},
   "outputs": [],
   "source": [
    "def KAMA(price, n=WINDOW_SIZE, pow1=1.5, pow2=20):\n",
    "    ''' kama indicator '''    \n",
    "    ''' accepts pandas dataframe of prices '''\n",
    "\n",
    "    absDiffx = abs(price - price.shift(1) )  \n",
    "\n",
    "    ER_num = abs( price - price.shift(n) )\n",
    "    ER_den = absDiffx.rolling(n).sum()\n",
    "    ER = ER_num / ER_den\n",
    "\n",
    "    sc = ( ER*(2.0/(pow1+1)-2.0/(pow2+1.0))+2/(pow2+1.0) ) ** 2.0\n",
    "\n",
    "\n",
    "    answer = np.zeros(sc.size)\n",
    "    N = len(answer)\n",
    "    first_value = True\n",
    "\n",
    "    for i in range(N):\n",
    "        if sc[i] != sc[i]:\n",
    "            answer[i] = np.nan\n",
    "        else:\n",
    "            if first_value:\n",
    "                answer[i] = price[i]\n",
    "                first_value = False\n",
    "            else:\n",
    "                answer[i] = answer[i-1] + sc[i] * (price[i] - answer[i-1])\n",
    "    return answer"
   ]
  },
  {
   "cell_type": "code",
   "execution_count": 491,
   "metadata": {},
   "outputs": [],
   "source": [
    "def ema(s):\n",
    "    alpha = 2/(WINDOW_SIZE+1)\n",
    "    values = [s[0]]\n",
    "    for i in range(1, len(s)):\n",
    "        t = alpha*s[i] + (1-alpha)*values[i-1]\n",
    "        values.append(t)\n",
    "    return values"
   ]
  },
  {
   "cell_type": "code",
   "execution_count": 501,
   "metadata": {},
   "outputs": [],
   "source": [
    "df['KMA'] = KAMA(df['<CLOSE>'])\n",
    "df['EMA'] = ema(df['<CLOSE>'])"
   ]
  },
  {
   "cell_type": "code",
   "execution_count": 518,
   "metadata": {},
   "outputs": [
    {
     "ename": "KeyError",
     "evalue": "'close'",
     "output_type": "error",
     "traceback": [
      "\u001b[1;31m---------------------------------------------------------------------------\u001b[0m",
      "\u001b[1;31mKeyError\u001b[0m                                  Traceback (most recent call last)",
      "\u001b[1;32m~\\.conda\\envs\\neuro\\lib\\site-packages\\tensorflow\\python\\keras\\api\\_v1\\keras\\activations\\__init__.py\u001b[0m in \u001b[0;36m<module>\u001b[1;34m\u001b[0m\n\u001b[0;32m      1\u001b[0m \u001b[0mdf\u001b[0m\u001b[1;33m[\u001b[0m\u001b[1;34m'FINTA_SMA'\u001b[0m\u001b[1;33m]\u001b[0m \u001b[1;33m=\u001b[0m \u001b[0mTA\u001b[0m\u001b[1;33m.\u001b[0m\u001b[0mSMA\u001b[0m\u001b[1;33m(\u001b[0m\u001b[0mdf\u001b[0m\u001b[1;33m,\u001b[0m \u001b[0mperiod\u001b[0m\u001b[1;33m=\u001b[0m\u001b[0mWINDOW_SIZE\u001b[0m\u001b[1;33m,\u001b[0m \u001b[0mcolumn\u001b[0m\u001b[1;33m=\u001b[0m\u001b[1;34m'<CLOSE>'\u001b[0m\u001b[1;33m)\u001b[0m\u001b[1;33m\u001b[0m\u001b[1;33m\u001b[0m\u001b[0m\n\u001b[1;32m----> 2\u001b[1;33m \u001b[0mdf\u001b[0m\u001b[1;33m[\u001b[0m\u001b[1;34m'FINTA_TEMA'\u001b[0m\u001b[1;33m]\u001b[0m \u001b[1;33m=\u001b[0m \u001b[0mTA\u001b[0m\u001b[1;33m.\u001b[0m\u001b[0mTEMA\u001b[0m\u001b[1;33m(\u001b[0m\u001b[0mdf\u001b[0m\u001b[1;33m[\u001b[0m\u001b[1;34m'<CLOSE>'\u001b[0m\u001b[1;33m]\u001b[0m\u001b[1;33m,\u001b[0m \u001b[0mperiod\u001b[0m\u001b[1;33m=\u001b[0m\u001b[0mWINDOW_SIZE\u001b[0m\u001b[1;33m//\u001b[0m\u001b[1;36m3\u001b[0m\u001b[1;33m)\u001b[0m\u001b[1;33m\u001b[0m\u001b[1;33m\u001b[0m\u001b[0m\n\u001b[0m",
      "\u001b[1;32m~\\.conda\\envs\\neuro\\lib\\site-packages\\finta\\finta.py\u001b[0m in \u001b[0;36mTEMA\u001b[1;34m(cls, ohlc, period, adjust)\u001b[0m\n\u001b[0;32m     98\u001b[0m         \"\"\"\n\u001b[0;32m     99\u001b[0m \u001b[1;33m\u001b[0m\u001b[0m\n\u001b[1;32m--> 100\u001b[1;33m         \u001b[0mtriple_ema\u001b[0m \u001b[1;33m=\u001b[0m \u001b[1;36m3\u001b[0m \u001b[1;33m*\u001b[0m \u001b[0mcls\u001b[0m\u001b[1;33m.\u001b[0m\u001b[0mEMA\u001b[0m\u001b[1;33m(\u001b[0m\u001b[0mohlc\u001b[0m\u001b[1;33m,\u001b[0m \u001b[0mperiod\u001b[0m\u001b[1;33m)\u001b[0m\u001b[1;33m\u001b[0m\u001b[1;33m\u001b[0m\u001b[0m\n\u001b[0m\u001b[0;32m    101\u001b[0m         ema_ema_ema = (\n\u001b[0;32m    102\u001b[0m             \u001b[0mcls\u001b[0m\u001b[1;33m.\u001b[0m\u001b[0mEMA\u001b[0m\u001b[1;33m(\u001b[0m\u001b[0mohlc\u001b[0m\u001b[1;33m,\u001b[0m \u001b[0mperiod\u001b[0m\u001b[1;33m)\u001b[0m\u001b[1;33m\u001b[0m\u001b[1;33m\u001b[0m\u001b[0m\n",
      "\u001b[1;32m~\\.conda\\envs\\neuro\\lib\\site-packages\\finta\\finta.py\u001b[0m in \u001b[0;36mEMA\u001b[1;34m(cls, ohlc, period, column, adjust)\u001b[0m\n\u001b[0;32m     60\u001b[0m \u001b[1;33m\u001b[0m\u001b[0m\n\u001b[0;32m     61\u001b[0m         return pd.Series(\n\u001b[1;32m---> 62\u001b[1;33m             \u001b[0mohlc\u001b[0m\u001b[1;33m[\u001b[0m\u001b[0mcolumn\u001b[0m\u001b[1;33m]\u001b[0m\u001b[1;33m\u001b[0m\u001b[1;33m\u001b[0m\u001b[0m\n\u001b[0m\u001b[0;32m     63\u001b[0m             \u001b[1;33m.\u001b[0m\u001b[0mewm\u001b[0m\u001b[1;33m(\u001b[0m\u001b[0mspan\u001b[0m\u001b[1;33m=\u001b[0m\u001b[0mperiod\u001b[0m\u001b[1;33m,\u001b[0m \u001b[0madjust\u001b[0m\u001b[1;33m=\u001b[0m\u001b[0madjust\u001b[0m\u001b[1;33m)\u001b[0m\u001b[1;33m\u001b[0m\u001b[1;33m\u001b[0m\u001b[0m\n\u001b[0;32m     64\u001b[0m             \u001b[1;33m.\u001b[0m\u001b[0mmean\u001b[0m\u001b[1;33m(\u001b[0m\u001b[1;33m)\u001b[0m\u001b[1;33m,\u001b[0m\u001b[1;33m\u001b[0m\u001b[1;33m\u001b[0m\u001b[0m\n",
      "\u001b[1;32m~\\.conda\\envs\\neuro\\lib\\site-packages\\pandas\\core\\series.py\u001b[0m in \u001b[0;36m__getitem__\u001b[1;34m(self, key)\u001b[0m\n\u001b[0;32m   1069\u001b[0m         \u001b[0mkey\u001b[0m \u001b[1;33m=\u001b[0m \u001b[0mcom\u001b[0m\u001b[1;33m.\u001b[0m\u001b[0mapply_if_callable\u001b[0m\u001b[1;33m(\u001b[0m\u001b[0mkey\u001b[0m\u001b[1;33m,\u001b[0m \u001b[0mself\u001b[0m\u001b[1;33m)\u001b[0m\u001b[1;33m\u001b[0m\u001b[1;33m\u001b[0m\u001b[0m\n\u001b[0;32m   1070\u001b[0m         \u001b[1;32mtry\u001b[0m\u001b[1;33m:\u001b[0m\u001b[1;33m\u001b[0m\u001b[1;33m\u001b[0m\u001b[0m\n\u001b[1;32m-> 1071\u001b[1;33m             \u001b[0mresult\u001b[0m \u001b[1;33m=\u001b[0m \u001b[0mself\u001b[0m\u001b[1;33m.\u001b[0m\u001b[0mindex\u001b[0m\u001b[1;33m.\u001b[0m\u001b[0mget_value\u001b[0m\u001b[1;33m(\u001b[0m\u001b[0mself\u001b[0m\u001b[1;33m,\u001b[0m \u001b[0mkey\u001b[0m\u001b[1;33m)\u001b[0m\u001b[1;33m\u001b[0m\u001b[1;33m\u001b[0m\u001b[0m\n\u001b[0m\u001b[0;32m   1072\u001b[0m \u001b[1;33m\u001b[0m\u001b[0m\n\u001b[0;32m   1073\u001b[0m             \u001b[1;32mif\u001b[0m \u001b[1;32mnot\u001b[0m \u001b[0mis_scalar\u001b[0m\u001b[1;33m(\u001b[0m\u001b[0mresult\u001b[0m\u001b[1;33m)\u001b[0m\u001b[1;33m:\u001b[0m\u001b[1;33m\u001b[0m\u001b[1;33m\u001b[0m\u001b[0m\n",
      "\u001b[1;32m~\\.conda\\envs\\neuro\\lib\\site-packages\\pandas\\core\\indexes\\base.py\u001b[0m in \u001b[0;36mget_value\u001b[1;34m(self, series, key)\u001b[0m\n\u001b[0;32m   4728\u001b[0m         \u001b[0mk\u001b[0m \u001b[1;33m=\u001b[0m \u001b[0mself\u001b[0m\u001b[1;33m.\u001b[0m\u001b[0m_convert_scalar_indexer\u001b[0m\u001b[1;33m(\u001b[0m\u001b[0mk\u001b[0m\u001b[1;33m,\u001b[0m \u001b[0mkind\u001b[0m\u001b[1;33m=\u001b[0m\u001b[1;34m\"getitem\"\u001b[0m\u001b[1;33m)\u001b[0m\u001b[1;33m\u001b[0m\u001b[1;33m\u001b[0m\u001b[0m\n\u001b[0;32m   4729\u001b[0m         \u001b[1;32mtry\u001b[0m\u001b[1;33m:\u001b[0m\u001b[1;33m\u001b[0m\u001b[1;33m\u001b[0m\u001b[0m\n\u001b[1;32m-> 4730\u001b[1;33m             \u001b[1;32mreturn\u001b[0m \u001b[0mself\u001b[0m\u001b[1;33m.\u001b[0m\u001b[0m_engine\u001b[0m\u001b[1;33m.\u001b[0m\u001b[0mget_value\u001b[0m\u001b[1;33m(\u001b[0m\u001b[0ms\u001b[0m\u001b[1;33m,\u001b[0m \u001b[0mk\u001b[0m\u001b[1;33m,\u001b[0m \u001b[0mtz\u001b[0m\u001b[1;33m=\u001b[0m\u001b[0mgetattr\u001b[0m\u001b[1;33m(\u001b[0m\u001b[0mseries\u001b[0m\u001b[1;33m.\u001b[0m\u001b[0mdtype\u001b[0m\u001b[1;33m,\u001b[0m \u001b[1;34m\"tz\"\u001b[0m\u001b[1;33m,\u001b[0m \u001b[1;32mNone\u001b[0m\u001b[1;33m)\u001b[0m\u001b[1;33m)\u001b[0m\u001b[1;33m\u001b[0m\u001b[1;33m\u001b[0m\u001b[0m\n\u001b[0m\u001b[0;32m   4731\u001b[0m         \u001b[1;32mexcept\u001b[0m \u001b[0mKeyError\u001b[0m \u001b[1;32mas\u001b[0m \u001b[0me1\u001b[0m\u001b[1;33m:\u001b[0m\u001b[1;33m\u001b[0m\u001b[1;33m\u001b[0m\u001b[0m\n\u001b[0;32m   4732\u001b[0m             \u001b[1;32mif\u001b[0m \u001b[0mlen\u001b[0m\u001b[1;33m(\u001b[0m\u001b[0mself\u001b[0m\u001b[1;33m)\u001b[0m \u001b[1;33m>\u001b[0m \u001b[1;36m0\u001b[0m \u001b[1;32mand\u001b[0m \u001b[1;33m(\u001b[0m\u001b[0mself\u001b[0m\u001b[1;33m.\u001b[0m\u001b[0mholds_integer\u001b[0m\u001b[1;33m(\u001b[0m\u001b[1;33m)\u001b[0m \u001b[1;32mor\u001b[0m \u001b[0mself\u001b[0m\u001b[1;33m.\u001b[0m\u001b[0mis_boolean\u001b[0m\u001b[1;33m(\u001b[0m\u001b[1;33m)\u001b[0m\u001b[1;33m)\u001b[0m\u001b[1;33m:\u001b[0m\u001b[1;33m\u001b[0m\u001b[1;33m\u001b[0m\u001b[0m\n",
      "\u001b[1;32mpandas/_libs/index.pyx\u001b[0m in \u001b[0;36mpandas._libs.index.IndexEngine.get_value\u001b[1;34m()\u001b[0m\n",
      "\u001b[1;32mpandas/_libs/index.pyx\u001b[0m in \u001b[0;36mpandas._libs.index.IndexEngine.get_value\u001b[1;34m()\u001b[0m\n",
      "\u001b[1;32mpandas/_libs/index.pyx\u001b[0m in \u001b[0;36mpandas._libs.index.IndexEngine.get_loc\u001b[1;34m()\u001b[0m\n",
      "\u001b[1;32mpandas/_libs/index_class_helper.pxi\u001b[0m in \u001b[0;36mpandas._libs.index.Int64Engine._check_type\u001b[1;34m()\u001b[0m\n",
      "\u001b[1;31mKeyError\u001b[0m: 'close'"
     ]
    }
   ],
   "source": [
    "df['FINTA_SMA'] = TA.SMA(df, period=WINDOW_SIZE, column='<CLOSE>')\n",
    "df['FINTA_TEMA'] = TA.TEMA(df['<CLOSE>'], period=WINDOW_SIZE//3)"
   ]
  },
  {
   "cell_type": "code",
   "execution_count": 516,
   "metadata": {},
   "outputs": [
    {
     "data": {
      "image/png": "[encoded data removed]",
      "text/plain": [
       "<Figure size 432x288 with 1 Axes>"
      ]
     },
     "metadata": {
      "needs_background": "light"
     },
     "output_type": "display_data"
    }
   ],
   "source": [
    "WINDOW_SIZE=20\n",
    "plt.plot(df['<CLOSE>'][-WINDOW_SIZE-550:-WINDOW_SIZE], label='NO SMA', alpha=0.8)\n",
    "plt.plot(df['ASMA'][-WINDOW_SIZE-550:-WINDOW_SIZE], label='SMA', alpha=0.8)\n",
    "plt.plot(df['KMA'][-WINDOW_SIZE-550:-WINDOW_SIZE], label='KAMA', alpha=0.8)\n",
    "plt.plot(df['EMA'][-WINDOW_SIZE-550:-WINDOW_SIZE], label='EMA', alpha=0.8)\n",
    "plt.plot(df['FINTA_SMA'][-WINDOW_SIZE-550:-WINDOW_SIZE], label='finta SMA', alpha=0.8)\n",
    "plt.legend()\n",
    "plt.savefig('MAS.png', dpi=800)"
   ]
  },
  {
   "cell_type": "code",
   "execution_count": 411,
   "metadata": {},
   "outputs": [
    {
     "data": {
      "text/plain": [
       "array([-2,  1,  0,  0,  0])"
      ]
     },
     "execution_count": 411,
     "metadata": {},
     "output_type": "execute_result"
    }
   ],
   "source": [
    "np.convolve([2, 1, 1, 1, 1], [-1, 1], mode='same')"
   ]
  }
 ],
 "metadata": {
  "kernelspec": {
   "display_name": "Python 3",
   "language": "python",
   "name": "python3"
  },
  "language_info": {
   "codemirror_mode": {
    "name": "ipython",
    "version": 3
   },
   "file_extension": ".py",
   "mimetype": "text/x-python",
   "name": "python",
   "nbconvert_exporter": "python",
   "pygments_lexer": "ipython3",
   "version": "3.6.9"
  }
 },
 "nbformat": 4,
 "nbformat_minor": 2
}
