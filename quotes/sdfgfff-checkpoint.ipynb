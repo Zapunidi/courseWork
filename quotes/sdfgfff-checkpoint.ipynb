{
 "cells": [
  {
   "cell_type": "code",
   "execution_count": 232,
   "metadata": {},
   "outputs": [],
   "source": [
    "import re\n",
    "import json\n",
    "import urllib\n",
    "import requests\n",
    "from bs4 import BeautifulSoup as soup"
   ]
  },
  {
   "cell_type": "code",
   "execution_count": 213,
   "metadata": {},
   "outputs": [],
   "source": [
    "def parse(link):\n",
    "    r = requests.get(link)\n",
    "    if r.status_code == 200:\n",
    "        t = re.sub(r'\\s', '', r.text)\n",
    "        t = re.findall(r\"Finam.IssuerProfile.Main.issue.*?</script>\", t)\n",
    "        t = re.findall(r'\\{.*\\}', t[0])[0]\n",
    "        t = t.replace('false', 'False').replace('true', 'True').replace('null', 'None')\n",
    "        exec('a = ' + t)\n",
    "        return a"
   ]
  },
  {
   "cell_type": "code",
   "execution_count": 215,
   "metadata": {},
   "outputs": [],
   "source": [
    "keys = parse(\"https://www.finam.ru/profile/mosbirzha-fyuchersy/lkoh/export/\")"
   ]
  },
  {
   "cell_type": "code",
   "execution_count": 222,
   "metadata": {},
   "outputs": [
    {
     "data": {
      "text/plain": [
       "{'id': 17453,\n",
       " 'code': 'SPFB.LKOH',\n",
       " 'fullUrl': 'mosbirzha-fyuchersy/lkoh',\n",
       " 'title': 'LKOH',\n",
       " 'decp': 0,\n",
       " 'testDriveEnabled': False,\n",
       " 'market': {'id': 14, 'title': 'МосБиржафьючерсы', 'volumeEnabled': True},\n",
       " 'info': {'decp': 0,\n",
       "  'last': 51091,\n",
       "  'pchange': -0.4792,\n",
       "  'change': -246.0069,\n",
       "  'bid': 50994,\n",
       "  'ask': 51050,\n",
       "  'open': 51582,\n",
       "  'high': 51957,\n",
       "  'low': 50930,\n",
       "  'close': 51337,\n",
       "  'volume': 1236,\n",
       "  'date': '07.04.202021:15:01',\n",
       "  'weekMin': 45513,\n",
       "  'weekMax': 54236,\n",
       "  'monthMin': 37002,\n",
       "  'monthMax': 54236,\n",
       "  'yearMin': 37002,\n",
       "  'yearMax': 69440,\n",
       "  'currency': None,\n",
       "  'volumeCode': None},\n",
       " 'forum': None,\n",
       " 'forumTitle': None,\n",
       " 'linkedTitle': 'ЛУКОЙЛ',\n",
       " 'linkedList': [{'id': 332,\n",
       "   'code': 'RTS.LKOH',\n",
       "   'title': 'LKOH',\n",
       "   'decp': 2,\n",
       "   'fullUrl': 'moex-classica/lkoh',\n",
       "   'market': {'id': 3, 'title': 'РТС', 'volumeEnabled': True},\n",
       "   'selected': False,\n",
       "   'url': '/analysis/profile0014C/'},\n",
       "  {'id': 8,\n",
       "   'code': 'LKOH',\n",
       "   'title': 'ЛУКОЙЛ',\n",
       "   'decp': 1,\n",
       "   'fullUrl': 'moex-akcii/lukoil',\n",
       "   'market': {'id': 1, 'title': 'МосБиржаакции', 'volumeEnabled': True},\n",
       "   'selected': False,\n",
       "   'url': '/analysis/profile00008/'},\n",
       "  {'id': 918,\n",
       "   'code': 'ADR.LKOHL',\n",
       "   'title': 'Лукойл',\n",
       "   'decp': 5,\n",
       "   'fullUrl': 'raspiski/lukoil',\n",
       "   'market': {'id': 8, 'title': 'Расписки', 'volumeEnabled': True},\n",
       "   'selected': False,\n",
       "   'url': '/analysis/profile00396/'},\n",
       "  {'id': 17453,\n",
       "   'code': 'SPFB.LKOH',\n",
       "   'title': 'LKOH',\n",
       "   'decp': 0,\n",
       "   'fullUrl': 'mosbirzha-fyuchersy/lkoh',\n",
       "   'market': {'id': 14, 'title': 'МосБиржафьючерсы', 'volumeEnabled': True},\n",
       "   'selected': True,\n",
       "   'url': '/analysis/profile0442D/'}]}"
      ]
     },
     "execution_count": 222,
     "metadata": {},
     "output_type": "execute_result"
    }
   ],
   "source": [
    "keys['quote']"
   ]
  },
  {
   "cell_type": "code",
   "execution_count": 230,
   "metadata": {},
   "outputs": [
    {
     "data": {
      "text/plain": [
       "14"
      ]
     },
     "execution_count": 230,
     "metadata": {},
     "output_type": "execute_result"
    }
   ],
   "source": [
    "kq['market']['id']"
   ]
  },
  {
   "cell_type": "code",
   "execution_count": 235,
   "metadata": {},
   "outputs": [],
   "source": [
    "kq = keys['quote']\n",
    "code=kq['code'];\n",
    "market=kq['market']['id']\n",
    "em=kq['id'];\n",
    "e='.csv';\n",
    "p='3';\n",
    "yf='2017';\n",
    "yt='2017';\n",
    "month_start='05';\n",
    "day_start='20';\n",
    "month_end='06';\n",
    "day_end='20';\n",
    "dtf='1';\n",
    "tmf='1';\n",
    "MSOR='1';\n",
    "mstimever='0'\n",
    "sep='1';\n",
    "sep2='3';\n",
    "datf='1';\n",
    "at='1';\n",
    "\n",
    "\n",
    "year_start=yf[2:];\n",
    "year_end=yt[2:];\n",
    "mf=(int(month_start.replace('0','')))-1;\n",
    "mt=(int(month_end.replace('0','')))-1;\n",
    "df=(int(day_start.replace('0','')))-1;\n",
    "dt=(int(day_end.replace('0','')))-1;\n",
    "\n",
    "\n",
    "def quotes(code,year_start,month_start,day_start,year_end,month_end,day_end,e,market,em,df,mf,yf,dt,mt,yt,p,dtf,tmf,MSOR,mstimever,sep,sep2,datf,at):\n",
    "    \n",
    "    page = urllib.request.urlopen('http://export.finam.ru/'+str(code)+'_'+str(year_start)+str(month_start)+str(day_start)+'_'+str(year_end)+str(month_end)+str(day_end)+str(e)+'?market='+str(market)+'&em='+str(em)+'&code='+str(code)+'&apply=0&df='+str(df)+'&mf='+str(mf)+'&yf='+str(yf)+'&from='+str(day_start)+'.'+str(month_start)+'.'+str(yf)+'&dt='+str(dt)+'&mt='+str(mt)+'&yt='+str(yt)+'&to='+str(day_end)+'.'+str(month_end)+'.'+str(yt)+'&p='+str(p)+'&f='+str(code)+'_'+str(year_start)+str(month_start)+str(day_start)+'_'+str(year_end)+str(month_end)+str(day_end)+'&e='+str(e)+'&cn='+str(code)+'&dtf='+str(dtf)+'&tmf='+str(tmf)+'&MSOR='+str(MSOR)+'&mstimever='+str(mstimever)+'&sep='+str(sep)+'&sep2='+str(sep2)+'&datf='+str(datf)+'&at='+str(at))\n",
    "    f = open(\"company_quotes.csv\", \"wb\")\n",
    "    content = page.read()\n",
    "    f.write(content)\n",
    "    f.close()\n",
    "\n",
    "qq = quotes(code,year_start,month_start,day_start,year_end,month_end,day_end,e,market,em,df,mf,yf,dt,mt,yt,p,dtf,tmf,MSOR,mstimever,sep,sep2,datf,at)"
   ]
  },
  {
   "cell_type": "code",
   "execution_count": null,
   "metadata": {},
   "outputs": [],
   "source": []
  }
 ],
 "metadata": {
  "kernelspec": {
   "display_name": "Python 3",
   "language": "python",
   "name": "python3"
  },
  "language_info": {
   "codemirror_mode": {
    "name": "ipython",
    "version": 3
   },
   "file_extension": ".py",
   "mimetype": "text/x-python",
   "name": "python",
   "nbconvert_exporter": "python",
   "pygments_lexer": "ipython3",
   "version": "3.6.9"
  }
 },
 "nbformat": 4,
 "nbformat_minor": 2
}
